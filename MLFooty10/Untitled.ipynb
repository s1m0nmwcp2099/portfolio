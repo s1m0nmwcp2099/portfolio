{
 "cells": [
  {
   "cell_type": "code",
   "execution_count": 1,
   "id": "urban-strap",
   "metadata": {},
   "outputs": [],
   "source": [
    "import pandas as pd\n",
    "import mysql.connector"
   ]
  },
  {
   "cell_type": "code",
   "execution_count": 2,
   "id": "outdoor-three",
   "metadata": {},
   "outputs": [],
   "source": [
    "conn_str = mysql.connector.connect(\n",
    "    user = 'simon',\n",
    "    host = 'localhost',\n",
    "    password = 'chainsaw',\n",
    "    database = 'football'\n",
    ")\n",
    "query = \"SELECT ThisDiv, Date, HomeTeam, AwayTeam, FTHG, FTAG, HTHG, HTAG, HST, AwST, HS, AwS, HC, AC FROM football_data_complete ORDER BY Date;\"\n",
    "df = pd.read_sql_query(query, conn_str)\n",
    "conn_str.close()"
   ]
  },
  {
   "cell_type": "code",
   "execution_count": 3,
   "id": "expected-biology",
   "metadata": {},
   "outputs": [],
   "source": [
    "df = df.dropna()"
   ]
  },
  {
   "cell_type": "code",
   "execution_count": 4,
   "id": "legitimate-writing",
   "metadata": {},
   "outputs": [
    {
     "data": {
      "text/html": [
       "<div>\n",
       "<style scoped>\n",
       "    .dataframe tbody tr th:only-of-type {\n",
       "        vertical-align: middle;\n",
       "    }\n",
       "\n",
       "    .dataframe tbody tr th {\n",
       "        vertical-align: top;\n",
       "    }\n",
       "\n",
       "    .dataframe thead th {\n",
       "        text-align: right;\n",
       "    }\n",
       "</style>\n",
       "<table border=\"1\" class=\"dataframe\">\n",
       "  <thead>\n",
       "    <tr style=\"text-align: right;\">\n",
       "      <th></th>\n",
       "      <th>FTHG</th>\n",
       "      <th>FTAG</th>\n",
       "      <th>HTHG</th>\n",
       "      <th>HTAG</th>\n",
       "      <th>HST</th>\n",
       "      <th>AwST</th>\n",
       "      <th>HS</th>\n",
       "      <th>AwS</th>\n",
       "      <th>HC</th>\n",
       "      <th>AC</th>\n",
       "    </tr>\n",
       "  </thead>\n",
       "  <tbody>\n",
       "    <tr>\n",
       "      <th>count</th>\n",
       "      <td>88913.000000</td>\n",
       "      <td>88913.000000</td>\n",
       "      <td>88913.000000</td>\n",
       "      <td>88913.000000</td>\n",
       "      <td>88913.000000</td>\n",
       "      <td>88913.000000</td>\n",
       "      <td>88913.000000</td>\n",
       "      <td>88913.000000</td>\n",
       "      <td>88913.000000</td>\n",
       "      <td>88913.000000</td>\n",
       "    </tr>\n",
       "    <tr>\n",
       "      <th>mean</th>\n",
       "      <td>1.485362</td>\n",
       "      <td>1.155174</td>\n",
       "      <td>0.657328</td>\n",
       "      <td>0.504043</td>\n",
       "      <td>5.313115</td>\n",
       "      <td>4.259715</td>\n",
       "      <td>12.509059</td>\n",
       "      <td>10.124099</td>\n",
       "      <td>5.773543</td>\n",
       "      <td>4.681993</td>\n",
       "    </tr>\n",
       "    <tr>\n",
       "      <th>std</th>\n",
       "      <td>1.252787</td>\n",
       "      <td>1.110454</td>\n",
       "      <td>0.813452</td>\n",
       "      <td>0.715603</td>\n",
       "      <td>2.838321</td>\n",
       "      <td>2.481868</td>\n",
       "      <td>4.877710</td>\n",
       "      <td>4.329260</td>\n",
       "      <td>2.942527</td>\n",
       "      <td>2.626435</td>\n",
       "    </tr>\n",
       "    <tr>\n",
       "      <th>min</th>\n",
       "      <td>0.000000</td>\n",
       "      <td>0.000000</td>\n",
       "      <td>0.000000</td>\n",
       "      <td>0.000000</td>\n",
       "      <td>0.000000</td>\n",
       "      <td>0.000000</td>\n",
       "      <td>0.000000</td>\n",
       "      <td>0.000000</td>\n",
       "      <td>0.000000</td>\n",
       "      <td>0.000000</td>\n",
       "    </tr>\n",
       "    <tr>\n",
       "      <th>25%</th>\n",
       "      <td>1.000000</td>\n",
       "      <td>0.000000</td>\n",
       "      <td>0.000000</td>\n",
       "      <td>0.000000</td>\n",
       "      <td>3.000000</td>\n",
       "      <td>2.000000</td>\n",
       "      <td>9.000000</td>\n",
       "      <td>7.000000</td>\n",
       "      <td>4.000000</td>\n",
       "      <td>3.000000</td>\n",
       "    </tr>\n",
       "    <tr>\n",
       "      <th>50%</th>\n",
       "      <td>1.000000</td>\n",
       "      <td>1.000000</td>\n",
       "      <td>0.000000</td>\n",
       "      <td>0.000000</td>\n",
       "      <td>5.000000</td>\n",
       "      <td>4.000000</td>\n",
       "      <td>12.000000</td>\n",
       "      <td>10.000000</td>\n",
       "      <td>5.000000</td>\n",
       "      <td>4.000000</td>\n",
       "    </tr>\n",
       "    <tr>\n",
       "      <th>75%</th>\n",
       "      <td>2.000000</td>\n",
       "      <td>2.000000</td>\n",
       "      <td>1.000000</td>\n",
       "      <td>1.000000</td>\n",
       "      <td>7.000000</td>\n",
       "      <td>6.000000</td>\n",
       "      <td>15.000000</td>\n",
       "      <td>13.000000</td>\n",
       "      <td>8.000000</td>\n",
       "      <td>6.000000</td>\n",
       "    </tr>\n",
       "    <tr>\n",
       "      <th>max</th>\n",
       "      <td>10.000000</td>\n",
       "      <td>13.000000</td>\n",
       "      <td>7.000000</td>\n",
       "      <td>6.000000</td>\n",
       "      <td>27.000000</td>\n",
       "      <td>23.000000</td>\n",
       "      <td>43.000000</td>\n",
       "      <td>45.000000</td>\n",
       "      <td>26.000000</td>\n",
       "      <td>21.000000</td>\n",
       "    </tr>\n",
       "  </tbody>\n",
       "</table>\n",
       "</div>"
      ],
      "text/plain": [
       "               FTHG          FTAG          HTHG          HTAG           HST  \\\n",
       "count  88913.000000  88913.000000  88913.000000  88913.000000  88913.000000   \n",
       "mean       1.485362      1.155174      0.657328      0.504043      5.313115   \n",
       "std        1.252787      1.110454      0.813452      0.715603      2.838321   \n",
       "min        0.000000      0.000000      0.000000      0.000000      0.000000   \n",
       "25%        1.000000      0.000000      0.000000      0.000000      3.000000   \n",
       "50%        1.000000      1.000000      0.000000      0.000000      5.000000   \n",
       "75%        2.000000      2.000000      1.000000      1.000000      7.000000   \n",
       "max       10.000000     13.000000      7.000000      6.000000     27.000000   \n",
       "\n",
       "               AwST            HS           AwS            HC            AC  \n",
       "count  88913.000000  88913.000000  88913.000000  88913.000000  88913.000000  \n",
       "mean       4.259715     12.509059     10.124099      5.773543      4.681993  \n",
       "std        2.481868      4.877710      4.329260      2.942527      2.626435  \n",
       "min        0.000000      0.000000      0.000000      0.000000      0.000000  \n",
       "25%        2.000000      9.000000      7.000000      4.000000      3.000000  \n",
       "50%        4.000000     12.000000     10.000000      5.000000      4.000000  \n",
       "75%        6.000000     15.000000     13.000000      8.000000      6.000000  \n",
       "max       23.000000     43.000000     45.000000     26.000000     21.000000  "
      ]
     },
     "execution_count": 4,
     "metadata": {},
     "output_type": "execute_result"
    }
   ],
   "source": [
    "df.describe()"
   ]
  },
  {
   "cell_type": "code",
   "execution_count": 5,
   "id": "twelve-teach",
   "metadata": {},
   "outputs": [
    {
     "data": {
      "text/plain": [
       "ThisDiv     88913\n",
       "Date        88913\n",
       "HomeTeam    88913\n",
       "AwayTeam    88913\n",
       "FTHG        88913\n",
       "FTAG        88913\n",
       "HTHG        88913\n",
       "HTAG        88913\n",
       "HST         88913\n",
       "AwST        88913\n",
       "HS          88913\n",
       "AwS         88913\n",
       "HC          88913\n",
       "AC          88913\n",
       "dtype: int64"
      ]
     },
     "execution_count": 5,
     "metadata": {},
     "output_type": "execute_result"
    }
   ],
   "source": [
    "df.count()"
   ]
  },
  {
   "cell_type": "code",
   "execution_count": 6,
   "id": "elegant-auditor",
   "metadata": {},
   "outputs": [],
   "source": [
    "import numpy as np"
   ]
  },
  {
   "cell_type": "code",
   "execution_count": 7,
   "id": "entertaining-behalf",
   "metadata": {},
   "outputs": [
    {
     "data": {
      "text/html": [
       "<div>\n",
       "<style scoped>\n",
       "    .dataframe tbody tr th:only-of-type {\n",
       "        vertical-align: middle;\n",
       "    }\n",
       "\n",
       "    .dataframe tbody tr th {\n",
       "        vertical-align: top;\n",
       "    }\n",
       "\n",
       "    .dataframe thead th {\n",
       "        text-align: right;\n",
       "    }\n",
       "</style>\n",
       "<table border=\"1\" class=\"dataframe\">\n",
       "  <thead>\n",
       "    <tr style=\"text-align: right;\">\n",
       "      <th></th>\n",
       "      <th>ThisDiv</th>\n",
       "      <th>Date</th>\n",
       "      <th>HomeTeam</th>\n",
       "      <th>AwayTeam</th>\n",
       "      <th>FTHG</th>\n",
       "      <th>FTAG</th>\n",
       "      <th>HTHG</th>\n",
       "      <th>HTAG</th>\n",
       "      <th>HST</th>\n",
       "      <th>AwST</th>\n",
       "      <th>HS</th>\n",
       "      <th>AwS</th>\n",
       "      <th>HC</th>\n",
       "      <th>AC</th>\n",
       "    </tr>\n",
       "  </thead>\n",
       "  <tbody>\n",
       "    <tr>\n",
       "      <th>43018</th>\n",
       "      <td>SC0</td>\n",
       "      <td>2000-07-29</td>\n",
       "      <td>Dunfermline</td>\n",
       "      <td>Aberdeen</td>\n",
       "      <td>0.0</td>\n",
       "      <td>0.0</td>\n",
       "      <td>0.0</td>\n",
       "      <td>0.0</td>\n",
       "      <td>8.0</td>\n",
       "      <td>0.0</td>\n",
       "      <td>23.0</td>\n",
       "      <td>10.0</td>\n",
       "      <td>6.0</td>\n",
       "      <td>6.0</td>\n",
       "    </tr>\n",
       "    <tr>\n",
       "      <th>43023</th>\n",
       "      <td>SC0</td>\n",
       "      <td>2000-07-29</td>\n",
       "      <td>Motherwell</td>\n",
       "      <td>Dundee</td>\n",
       "      <td>0.0</td>\n",
       "      <td>2.0</td>\n",
       "      <td>0.0</td>\n",
       "      <td>1.0</td>\n",
       "      <td>5.0</td>\n",
       "      <td>4.0</td>\n",
       "      <td>8.0</td>\n",
       "      <td>7.0</td>\n",
       "      <td>5.0</td>\n",
       "      <td>4.0</td>\n",
       "    </tr>\n",
       "    <tr>\n",
       "      <th>43028</th>\n",
       "      <td>SC0</td>\n",
       "      <td>2000-07-29</td>\n",
       "      <td>Rangers</td>\n",
       "      <td>St Johnstone</td>\n",
       "      <td>2.0</td>\n",
       "      <td>1.0</td>\n",
       "      <td>0.0</td>\n",
       "      <td>1.0</td>\n",
       "      <td>8.0</td>\n",
       "      <td>2.0</td>\n",
       "      <td>12.0</td>\n",
       "      <td>5.0</td>\n",
       "      <td>4.0</td>\n",
       "      <td>2.0</td>\n",
       "    </tr>\n",
       "    <tr>\n",
       "      <th>43029</th>\n",
       "      <td>SC0</td>\n",
       "      <td>2000-07-29</td>\n",
       "      <td>St Mirren</td>\n",
       "      <td>Kilmarnock</td>\n",
       "      <td>0.0</td>\n",
       "      <td>1.0</td>\n",
       "      <td>0.0</td>\n",
       "      <td>0.0</td>\n",
       "      <td>4.0</td>\n",
       "      <td>3.0</td>\n",
       "      <td>9.0</td>\n",
       "      <td>5.0</td>\n",
       "      <td>6.0</td>\n",
       "      <td>6.0</td>\n",
       "    </tr>\n",
       "    <tr>\n",
       "      <th>43031</th>\n",
       "      <td>SC0</td>\n",
       "      <td>2000-07-30</td>\n",
       "      <td>Dundee United</td>\n",
       "      <td>Celtic</td>\n",
       "      <td>1.0</td>\n",
       "      <td>2.0</td>\n",
       "      <td>0.0</td>\n",
       "      <td>1.0</td>\n",
       "      <td>4.0</td>\n",
       "      <td>9.0</td>\n",
       "      <td>8.0</td>\n",
       "      <td>15.0</td>\n",
       "      <td>6.0</td>\n",
       "      <td>11.0</td>\n",
       "    </tr>\n",
       "  </tbody>\n",
       "</table>\n",
       "</div>"
      ],
      "text/plain": [
       "      ThisDiv        Date       HomeTeam      AwayTeam  FTHG  FTAG  HTHG  \\\n",
       "43018     SC0  2000-07-29    Dunfermline      Aberdeen   0.0   0.0   0.0   \n",
       "43023     SC0  2000-07-29     Motherwell        Dundee   0.0   2.0   0.0   \n",
       "43028     SC0  2000-07-29        Rangers  St Johnstone   2.0   1.0   0.0   \n",
       "43029     SC0  2000-07-29      St Mirren    Kilmarnock   0.0   1.0   0.0   \n",
       "43031     SC0  2000-07-30  Dundee United        Celtic   1.0   2.0   0.0   \n",
       "\n",
       "       HTAG  HST  AwST    HS   AwS   HC    AC  \n",
       "43018   0.0  8.0   0.0  23.0  10.0  6.0   6.0  \n",
       "43023   1.0  5.0   4.0   8.0   7.0  5.0   4.0  \n",
       "43028   1.0  8.0   2.0  12.0   5.0  4.0   2.0  \n",
       "43029   0.0  4.0   3.0   9.0   5.0  6.0   6.0  \n",
       "43031   1.0  4.0   9.0   8.0  15.0  6.0  11.0  "
      ]
     },
     "execution_count": 7,
     "metadata": {},
     "output_type": "execute_result"
    }
   ],
   "source": [
    "df.head()"
   ]
  },
  {
   "cell_type": "code",
   "execution_count": 8,
   "id": "duplicate-trail",
   "metadata": {},
   "outputs": [],
   "source": [
    "earliest = df.iloc[0]['Date']"
   ]
  },
  {
   "cell_type": "code",
   "execution_count": 9,
   "id": "frequent-provincial",
   "metadata": {},
   "outputs": [],
   "source": [
    "from datetime import timedelta"
   ]
  },
  {
   "cell_type": "code",
   "execution_count": null,
   "id": "powerful-wright",
   "metadata": {},
   "outputs": [],
   "source": [
    "conn_str.close()"
   ]
  },
  {
   "cell_type": "code",
   "execution_count": 13,
   "id": "operational-requirement",
   "metadata": {},
   "outputs": [],
   "source": [
    "avFtgspg, avFtgcpg, avHtgspg, avHtgcpg, avsTfpg, avsTapg, avsfpg, avsapg, avcfpg, avcapg = 0.0, 0.0, 0.0, 0.0, 0.0, 0.0, 0.0, 0.0, 0.0, 0.0"
   ]
  },
  {
   "cell_type": "code",
   "execution_count": 14,
   "id": "silent-pittsburgh",
   "metadata": {},
   "outputs": [
    {
     "name": "stdout",
     "output_type": "stream",
     "text": [
      "0.0\n"
     ]
    }
   ],
   "source": [
    "print(avsapg)"
   ]
  },
  {
   "cell_type": "code",
   "execution_count": 22,
   "id": "opening-hardware",
   "metadata": {},
   "outputs": [],
   "source": [
    "league_list = df['ThisDiv'].unique().tolist()"
   ]
  },
  {
   "cell_type": "code",
   "execution_count": 23,
   "id": "indonesian-lawsuit",
   "metadata": {},
   "outputs": [
    {
     "data": {
      "text/plain": [
       "list"
      ]
     },
     "execution_count": 23,
     "metadata": {},
     "output_type": "execute_result"
    }
   ],
   "source": [
    "type(league_list)"
   ]
  },
  {
   "cell_type": "code",
   "execution_count": 24,
   "id": "fourth-absorption",
   "metadata": {},
   "outputs": [
    {
     "data": {
      "text/plain": [
       "['SC0',\n",
       " 'SC3',\n",
       " 'SC2',\n",
       " 'SC1',\n",
       " 'D1',\n",
       " 'E3',\n",
       " 'E1',\n",
       " 'E2',\n",
       " 'D2',\n",
       " 'E0',\n",
       " 'EC',\n",
       " 'SP1',\n",
       " 'I1',\n",
       " 'F1',\n",
       " 'B1',\n",
       " 'F2',\n",
       " 'P1',\n",
       " 'T1',\n",
       " 'N1',\n",
       " 'SP2',\n",
       " 'G1',\n",
       " 'I2']"
      ]
     },
     "execution_count": 24,
     "metadata": {},
     "output_type": "execute_result"
    }
   ],
   "source": [
    "league_list"
   ]
  },
  {
   "cell_type": "code",
   "execution_count": 25,
   "id": "relative-tobago",
   "metadata": {},
   "outputs": [
    {
     "data": {
      "text/plain": [
       "str"
      ]
     },
     "execution_count": 25,
     "metadata": {},
     "output_type": "execute_result"
    }
   ],
   "source": [
    "type(league_list[0])"
   ]
  },
  {
   "cell_type": "code",
   "execution_count": 31,
   "id": "pacific-workplace",
   "metadata": {},
   "outputs": [],
   "source": [
    "our_date = df.iloc[0]['Date']"
   ]
  },
  {
   "cell_type": "code",
   "execution_count": 32,
   "id": "limiting-booth",
   "metadata": {},
   "outputs": [
    {
     "data": {
      "text/plain": [
       "datetime.date(2000, 7, 29)"
      ]
     },
     "execution_count": 32,
     "metadata": {},
     "output_type": "execute_result"
    }
   ],
   "source": [
    "our_date"
   ]
  },
  {
   "cell_type": "code",
   "execution_count": 33,
   "id": "front-security",
   "metadata": {},
   "outputs": [
    {
     "data": {
      "text/plain": [
       "datetime.date"
      ]
     },
     "execution_count": 33,
     "metadata": {},
     "output_type": "execute_result"
    }
   ],
   "source": [
    "type(our_date)"
   ]
  },
  {
   "cell_type": "code",
   "execution_count": 35,
   "id": "responsible-format",
   "metadata": {},
   "outputs": [
    {
     "data": {
      "text/plain": [
       "1.4853620955315872"
      ]
     },
     "execution_count": 35,
     "metadata": {},
     "output_type": "execute_result"
    }
   ],
   "source": [
    "df['FTHG'].mean()"
   ]
  },
  {
   "cell_type": "code",
   "execution_count": 44,
   "id": "popular-gross",
   "metadata": {},
   "outputs": [],
   "source": [
    "sample_date = df.iloc[10000]['Date']"
   ]
  },
  {
   "cell_type": "code",
   "execution_count": 55,
   "id": "initial-protocol",
   "metadata": {},
   "outputs": [],
   "source": [
    "one_year_earlier = sample_date - timedelta(days=365)"
   ]
  },
  {
   "cell_type": "code",
   "execution_count": 56,
   "id": "artificial-sierra",
   "metadata": {},
   "outputs": [],
   "source": [
    "df_nffc = df.loc[((df['HomeTeam'] == 'Nottm Forest') | (df['AwayTeam'] == 'Nottm Forest')) & (df['Date'] < sample_date) & (df['Date'] > one_year_earlier)]"
   ]
  },
  {
   "cell_type": "code",
   "execution_count": 57,
   "id": "complex-pressing",
   "metadata": {},
   "outputs": [
    {
     "data": {
      "text/plain": [
       "datetime.date(2003, 12, 26)"
      ]
     },
     "execution_count": 57,
     "metadata": {},
     "output_type": "execute_result"
    }
   ],
   "source": [
    "sample_date"
   ]
  },
  {
   "cell_type": "code",
   "execution_count": 58,
   "id": "sixth-front",
   "metadata": {},
   "outputs": [
    {
     "data": {
      "text/html": [
       "<div>\n",
       "<style scoped>\n",
       "    .dataframe tbody tr th:only-of-type {\n",
       "        vertical-align: middle;\n",
       "    }\n",
       "\n",
       "    .dataframe tbody tr th {\n",
       "        vertical-align: top;\n",
       "    }\n",
       "\n",
       "    .dataframe thead th {\n",
       "        text-align: right;\n",
       "    }\n",
       "</style>\n",
       "<table border=\"1\" class=\"dataframe\">\n",
       "  <thead>\n",
       "    <tr style=\"text-align: right;\">\n",
       "      <th></th>\n",
       "      <th>ThisDiv</th>\n",
       "      <th>Date</th>\n",
       "      <th>HomeTeam</th>\n",
       "      <th>AwayTeam</th>\n",
       "      <th>FTHG</th>\n",
       "      <th>FTAG</th>\n",
       "      <th>HTHG</th>\n",
       "      <th>HTAG</th>\n",
       "      <th>HST</th>\n",
       "      <th>AwST</th>\n",
       "      <th>HS</th>\n",
       "      <th>AwS</th>\n",
       "      <th>HC</th>\n",
       "      <th>AC</th>\n",
       "    </tr>\n",
       "  </thead>\n",
       "  <tbody>\n",
       "    <tr>\n",
       "      <th>66894</th>\n",
       "      <td>E1</td>\n",
       "      <td>2003-11-22</td>\n",
       "      <td>Wigan</td>\n",
       "      <td>Nottm Forest</td>\n",
       "      <td>2.0</td>\n",
       "      <td>2.0</td>\n",
       "      <td>1.0</td>\n",
       "      <td>0.0</td>\n",
       "      <td>9.0</td>\n",
       "      <td>6.0</td>\n",
       "      <td>11.0</td>\n",
       "      <td>9.0</td>\n",
       "      <td>5.0</td>\n",
       "      <td>5.0</td>\n",
       "    </tr>\n",
       "    <tr>\n",
       "      <th>67044</th>\n",
       "      <td>E1</td>\n",
       "      <td>2003-11-29</td>\n",
       "      <td>Nottm Forest</td>\n",
       "      <td>West Brom</td>\n",
       "      <td>0.0</td>\n",
       "      <td>3.0</td>\n",
       "      <td>0.0</td>\n",
       "      <td>2.0</td>\n",
       "      <td>5.0</td>\n",
       "      <td>4.0</td>\n",
       "      <td>15.0</td>\n",
       "      <td>7.0</td>\n",
       "      <td>9.0</td>\n",
       "      <td>4.0</td>\n",
       "    </tr>\n",
       "    <tr>\n",
       "      <th>67173</th>\n",
       "      <td>E1</td>\n",
       "      <td>2003-12-03</td>\n",
       "      <td>Nottm Forest</td>\n",
       "      <td>Ipswich</td>\n",
       "      <td>1.0</td>\n",
       "      <td>1.0</td>\n",
       "      <td>0.0</td>\n",
       "      <td>0.0</td>\n",
       "      <td>13.0</td>\n",
       "      <td>8.0</td>\n",
       "      <td>13.0</td>\n",
       "      <td>8.0</td>\n",
       "      <td>9.0</td>\n",
       "      <td>4.0</td>\n",
       "    </tr>\n",
       "    <tr>\n",
       "      <th>67270</th>\n",
       "      <td>E1</td>\n",
       "      <td>2003-12-06</td>\n",
       "      <td>Watford</td>\n",
       "      <td>Nottm Forest</td>\n",
       "      <td>1.0</td>\n",
       "      <td>1.0</td>\n",
       "      <td>0.0</td>\n",
       "      <td>0.0</td>\n",
       "      <td>2.0</td>\n",
       "      <td>3.0</td>\n",
       "      <td>5.0</td>\n",
       "      <td>8.0</td>\n",
       "      <td>7.0</td>\n",
       "      <td>3.0</td>\n",
       "    </tr>\n",
       "    <tr>\n",
       "      <th>67396</th>\n",
       "      <td>E1</td>\n",
       "      <td>2003-12-13</td>\n",
       "      <td>Crystal Palace</td>\n",
       "      <td>Nottm Forest</td>\n",
       "      <td>1.0</td>\n",
       "      <td>0.0</td>\n",
       "      <td>1.0</td>\n",
       "      <td>0.0</td>\n",
       "      <td>4.0</td>\n",
       "      <td>1.0</td>\n",
       "      <td>8.0</td>\n",
       "      <td>6.0</td>\n",
       "      <td>5.0</td>\n",
       "      <td>4.0</td>\n",
       "    </tr>\n",
       "  </tbody>\n",
       "</table>\n",
       "</div>"
      ],
      "text/plain": [
       "      ThisDiv        Date        HomeTeam      AwayTeam  FTHG  FTAG  HTHG  \\\n",
       "66894      E1  2003-11-22           Wigan  Nottm Forest   2.0   2.0   1.0   \n",
       "67044      E1  2003-11-29    Nottm Forest     West Brom   0.0   3.0   0.0   \n",
       "67173      E1  2003-12-03    Nottm Forest       Ipswich   1.0   1.0   0.0   \n",
       "67270      E1  2003-12-06         Watford  Nottm Forest   1.0   1.0   0.0   \n",
       "67396      E1  2003-12-13  Crystal Palace  Nottm Forest   1.0   0.0   1.0   \n",
       "\n",
       "       HTAG   HST  AwST    HS  AwS   HC   AC  \n",
       "66894   0.0   9.0   6.0  11.0  9.0  5.0  5.0  \n",
       "67044   2.0   5.0   4.0  15.0  7.0  9.0  4.0  \n",
       "67173   0.0  13.0   8.0  13.0  8.0  9.0  4.0  \n",
       "67270   0.0   2.0   3.0   5.0  8.0  7.0  3.0  \n",
       "67396   0.0   4.0   1.0   8.0  6.0  5.0  4.0  "
      ]
     },
     "execution_count": 58,
     "metadata": {},
     "output_type": "execute_result"
    }
   ],
   "source": [
    "df_nffc.tail()"
   ]
  },
  {
   "cell_type": "code",
   "execution_count": 59,
   "id": "flush-exchange",
   "metadata": {},
   "outputs": [
    {
     "data": {
      "text/html": [
       "<div>\n",
       "<style scoped>\n",
       "    .dataframe tbody tr th:only-of-type {\n",
       "        vertical-align: middle;\n",
       "    }\n",
       "\n",
       "    .dataframe tbody tr th {\n",
       "        vertical-align: top;\n",
       "    }\n",
       "\n",
       "    .dataframe thead th {\n",
       "        text-align: right;\n",
       "    }\n",
       "</style>\n",
       "<table border=\"1\" class=\"dataframe\">\n",
       "  <thead>\n",
       "    <tr style=\"text-align: right;\">\n",
       "      <th></th>\n",
       "      <th>ThisDiv</th>\n",
       "      <th>Date</th>\n",
       "      <th>HomeTeam</th>\n",
       "      <th>AwayTeam</th>\n",
       "      <th>FTHG</th>\n",
       "      <th>FTAG</th>\n",
       "      <th>HTHG</th>\n",
       "      <th>HTAG</th>\n",
       "      <th>HST</th>\n",
       "      <th>AwST</th>\n",
       "      <th>HS</th>\n",
       "      <th>AwS</th>\n",
       "      <th>HC</th>\n",
       "      <th>AC</th>\n",
       "    </tr>\n",
       "  </thead>\n",
       "  <tbody>\n",
       "    <tr>\n",
       "      <th>60605</th>\n",
       "      <td>E1</td>\n",
       "      <td>2002-12-28</td>\n",
       "      <td>Nottm Forest</td>\n",
       "      <td>Portsmouth</td>\n",
       "      <td>1.0</td>\n",
       "      <td>2.0</td>\n",
       "      <td>0.0</td>\n",
       "      <td>0.0</td>\n",
       "      <td>3.0</td>\n",
       "      <td>17.0</td>\n",
       "      <td>4.0</td>\n",
       "      <td>23.0</td>\n",
       "      <td>4.0</td>\n",
       "      <td>7.0</td>\n",
       "    </tr>\n",
       "    <tr>\n",
       "      <th>60660</th>\n",
       "      <td>E1</td>\n",
       "      <td>2003-01-01</td>\n",
       "      <td>Nottm Forest</td>\n",
       "      <td>Walsall</td>\n",
       "      <td>1.0</td>\n",
       "      <td>1.0</td>\n",
       "      <td>1.0</td>\n",
       "      <td>0.0</td>\n",
       "      <td>2.0</td>\n",
       "      <td>5.0</td>\n",
       "      <td>6.0</td>\n",
       "      <td>11.0</td>\n",
       "      <td>8.0</td>\n",
       "      <td>3.0</td>\n",
       "    </tr>\n",
       "    <tr>\n",
       "      <th>60908</th>\n",
       "      <td>E1</td>\n",
       "      <td>2003-01-18</td>\n",
       "      <td>Nottm Forest</td>\n",
       "      <td>Coventry</td>\n",
       "      <td>1.0</td>\n",
       "      <td>1.0</td>\n",
       "      <td>1.0</td>\n",
       "      <td>0.0</td>\n",
       "      <td>8.0</td>\n",
       "      <td>3.0</td>\n",
       "      <td>15.0</td>\n",
       "      <td>5.0</td>\n",
       "      <td>10.0</td>\n",
       "      <td>3.0</td>\n",
       "    </tr>\n",
       "    <tr>\n",
       "      <th>61056</th>\n",
       "      <td>E1</td>\n",
       "      <td>2003-01-25</td>\n",
       "      <td>Preston</td>\n",
       "      <td>Nottm Forest</td>\n",
       "      <td>1.0</td>\n",
       "      <td>1.0</td>\n",
       "      <td>1.0</td>\n",
       "      <td>1.0</td>\n",
       "      <td>9.0</td>\n",
       "      <td>9.0</td>\n",
       "      <td>14.0</td>\n",
       "      <td>16.0</td>\n",
       "      <td>5.0</td>\n",
       "      <td>7.0</td>\n",
       "    </tr>\n",
       "    <tr>\n",
       "      <th>61242</th>\n",
       "      <td>E1</td>\n",
       "      <td>2003-02-01</td>\n",
       "      <td>Wimbledon</td>\n",
       "      <td>Nottm Forest</td>\n",
       "      <td>2.0</td>\n",
       "      <td>3.0</td>\n",
       "      <td>0.0</td>\n",
       "      <td>2.0</td>\n",
       "      <td>5.0</td>\n",
       "      <td>10.0</td>\n",
       "      <td>10.0</td>\n",
       "      <td>14.0</td>\n",
       "      <td>4.0</td>\n",
       "      <td>4.0</td>\n",
       "    </tr>\n",
       "  </tbody>\n",
       "</table>\n",
       "</div>"
      ],
      "text/plain": [
       "      ThisDiv        Date      HomeTeam      AwayTeam  FTHG  FTAG  HTHG  HTAG  \\\n",
       "60605      E1  2002-12-28  Nottm Forest    Portsmouth   1.0   2.0   0.0   0.0   \n",
       "60660      E1  2003-01-01  Nottm Forest       Walsall   1.0   1.0   1.0   0.0   \n",
       "60908      E1  2003-01-18  Nottm Forest      Coventry   1.0   1.0   1.0   0.0   \n",
       "61056      E1  2003-01-25       Preston  Nottm Forest   1.0   1.0   1.0   1.0   \n",
       "61242      E1  2003-02-01     Wimbledon  Nottm Forest   2.0   3.0   0.0   2.0   \n",
       "\n",
       "       HST  AwST    HS   AwS    HC   AC  \n",
       "60605  3.0  17.0   4.0  23.0   4.0  7.0  \n",
       "60660  2.0   5.0   6.0  11.0   8.0  3.0  \n",
       "60908  8.0   3.0  15.0   5.0  10.0  3.0  \n",
       "61056  9.0   9.0  14.0  16.0   5.0  7.0  \n",
       "61242  5.0  10.0  10.0  14.0   4.0  4.0  "
      ]
     },
     "execution_count": 59,
     "metadata": {},
     "output_type": "execute_result"
    }
   ],
   "source": [
    "df_nffc.head()"
   ]
  },
  {
   "cell_type": "code",
   "execution_count": 63,
   "id": "municipal-stadium",
   "metadata": {},
   "outputs": [
    {
     "data": {
      "text/plain": [
       "365.0"
      ]
     },
     "execution_count": 63,
     "metadata": {},
     "output_type": "execute_result"
    }
   ],
   "source": [
    "gap = float((sample_date - one_year_earlier).days)\n",
    "gap"
   ]
  },
  {
   "cell_type": "code",
   "execution_count": 64,
   "id": "sought-microphone",
   "metadata": {},
   "outputs": [
    {
     "data": {
      "text/plain": [
       "float"
      ]
     },
     "execution_count": 64,
     "metadata": {},
     "output_type": "execute_result"
    }
   ],
   "source": [
    "type(gap)"
   ]
  },
  {
   "cell_type": "code",
   "execution_count": 66,
   "id": "freelance-surge",
   "metadata": {},
   "outputs": [
    {
     "data": {
      "text/plain": [
       "0.07769223206730236"
      ]
     },
     "execution_count": 66,
     "metadata": {},
     "output_type": "execute_result"
    }
   ],
   "source": [
    "x = np.exp(-0.007 * 365)\n",
    "x"
   ]
  },
  {
   "cell_type": "code",
   "execution_count": 67,
   "id": "employed-principle",
   "metadata": {},
   "outputs": [],
   "source": [
    "def time_weighted_averages_per_game(df, at_home, this_match_date): # going back 365 days, i = row index\n",
    "    team_averages = [0.0, 0.0, 0.0, 0.0, 0.0, 0.0, 0.0, 0.0,0.0, 0.0]\n",
    "    pld_weight = 0.0 # number of games played represented as time-weighted units\n",
    "    if at_home == True:\n",
    "        adj = 0 # adjuster\n",
    "        h_or_a = 'HomeTeam'\n",
    "    else:\n",
    "        adj = 1\n",
    "        h_or_a = 'AwayTeam'\n",
    "    for i in range (0, len(df)):\n",
    "        that_match_date = df.iloc[i, 1] # date of previous match\n",
    "        days_gap = float((this_match_date - that_match_date).days)\n",
    "        time_coeff = np.exp(-0.007 * days_gap)\n",
    "        pld_weight += time_coeff\n",
    "\n",
    "        team_averages[0] += (df.iloc[i, 4+adj] * time_coeff) # full time goals for\n",
    "        team_averages[1] += (df.iloc[i, 5-adj] * time_coeff) # full time goals against\n",
    "        team_averages[2] += (df.iloc[i, 6+adj] * time_coeff) # half time goals for\n",
    "        team_averages[3] += (df.iloc[i, 7-adj] * time_coeff) # half time goals against\n",
    "        team_averages[4] += (df.iloc[i, 8+adj] * time_coeff) # shots on target for\n",
    "        team_averages[5] += (df.iloc[i, 9-adj] * time_coeff) # shots on target against\n",
    "        team_averages[6] += (df.iloc[i, 10+adj] * time_coeff)# shots for\n",
    "        team_averages[7] += (df.iloc[i, 11-adj] * time_coeff)# shots against\n",
    "        team_averages[8] += (df.iloc[i, 12+adj] * time_coeff)# corners for\n",
    "        team_averages[9] += (df.iloc[i, 13-adj] * time_coeff)# corners against\n",
    "\n",
    "    for i in range (0, len(team_averages)):\n",
    "        team_averages[i] /= pld_weight\n",
    "\n",
    "    return team_averages"
   ]
  },
  {
   "cell_type": "code",
   "execution_count": 73,
   "id": "active-bradford",
   "metadata": {},
   "outputs": [],
   "source": [
    "from datetime import date"
   ]
  },
  {
   "cell_type": "code",
   "execution_count": 77,
   "id": "marked-tamil",
   "metadata": {},
   "outputs": [],
   "source": [
    "match_date = datetime.date(2021, 2, 26)"
   ]
  },
  {
   "cell_type": "code",
   "execution_count": 78,
   "id": "narrative-gothic",
   "metadata": {},
   "outputs": [],
   "source": [
    "earliest_date = match_date - timedelta(days=365)"
   ]
  },
  {
   "cell_type": "code",
   "execution_count": 79,
   "id": "frozen-migration",
   "metadata": {},
   "outputs": [],
   "source": [
    "df_nffc_home = df.loc[(df['HomeTeam']=='Nottm Forest') & (df['Date'] > earliest_date) & (df['Date'] < match_date)]"
   ]
  },
  {
   "cell_type": "code",
   "execution_count": 81,
   "id": "wicked-rehabilitation",
   "metadata": {},
   "outputs": [],
   "source": [
    "nffc_home_averages = time_weighted_averages_per_game(df_nffc_home, True, match_date)"
   ]
  },
  {
   "cell_type": "code",
   "execution_count": 82,
   "id": "virtual-candle",
   "metadata": {},
   "outputs": [
    {
     "data": {
      "text/plain": [
       "[0.9534919798853035,\n",
       " 0.8596562158384357,\n",
       " 0.3734344075132063,\n",
       " 0.44709135829310204,\n",
       " 3.435335282925507,\n",
       " 3.4318637989028993,\n",
       " 12.361308477123993,\n",
       " 10.241474397864163,\n",
       " 5.137659838996378,\n",
       " 5.2779581287834665]"
      ]
     },
     "execution_count": 82,
     "metadata": {},
     "output_type": "execute_result"
    }
   ],
   "source": [
    "nffc_home_averages"
   ]
  },
  {
   "cell_type": "code",
   "execution_count": 83,
   "id": "demographic-ideal",
   "metadata": {},
   "outputs": [
    {
     "data": {
      "text/plain": [
       "[0.8784710573323459,\n",
       " 1.063245628305687,\n",
       " 0.2290001709748711,\n",
       " 0.4137889569263372,\n",
       " 2.231622245768504,\n",
       " 3.739012750226578,\n",
       " 9.943551456574124,\n",
       " 12.221555582884427,\n",
       " 5.0586489356638475,\n",
       " 5.317793558349834]"
      ]
     },
     "execution_count": 83,
     "metadata": {},
     "output_type": "execute_result"
    }
   ],
   "source": [
    "df_nffc_away = df.loc[(df['AwayTeam']=='Nottm Forest') & (df['Date'] > earliest_date) & (df['Date'] < match_date)]\n",
    "nffc_away_averages = time_weighted_averages_per_game(df_nffc_away, False, match_date)\n",
    "nffc_away_averages"
   ]
  },
  {
   "cell_type": "code",
   "execution_count": null,
   "id": "north-violation",
   "metadata": {},
   "outputs": [],
   "source": []
  }
 ],
 "metadata": {
  "kernelspec": {
   "display_name": "Python 3.8.5 64-bit",
   "language": "python",
   "name": "python38564bit294f150e2a86464d83848abce420123d"
  },
  "language_info": {
   "codemirror_mode": {
    "name": "ipython",
    "version": 3
   },
   "file_extension": ".py",
   "mimetype": "text/x-python",
   "name": "python",
   "nbconvert_exporter": "python",
   "pygments_lexer": "ipython3",
   "version": "3.8.5"
  }
 },
 "nbformat": 4,
 "nbformat_minor": 5
}

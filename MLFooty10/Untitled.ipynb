{
 "cells": [
  {
   "cell_type": "code",
   "execution_count": null,
   "id": "portuguese-strain",
   "metadata": {},
   "outputs": [],
   "source": [
    "import pandas as pd\n",
    "import mysql.connector"
   ]
  },
  {
   "cell_type": "code",
   "execution_count": null,
   "id": "equivalent-latvia",
   "metadata": {},
   "outputs": [],
   "source": [
    "conn_str = mysql.connector.connect(\n",
    "    user = 'simon',\n",
    "    host = 'localhost',\n",
    "    password = 'chainsaw',\n",
    "    database = 'football'\n",
    ")\n",
    "query = \"SELECT ThisDiv, Date, HomeTeam, AwayTeam, FTHG, FTAG, HTHG, HTAG, HST, AwST, HS, AwS, HC, AC FROM football_data_complete ORDER BY Date;\"\n",
    "df = pd.read_sql_query(query, conn_str)\n",
    "conn_str.close()"
   ]
  },
  {
   "cell_type": "code",
   "execution_count": null,
   "id": "minute-nigeria",
   "metadata": {},
   "outputs": [],
   "source": [
    "df = df.dropna()"
   ]
  },
  {
   "cell_type": "code",
   "execution_count": null,
   "id": "together-maintenance",
   "metadata": {},
   "outputs": [],
   "source": [
    "df.describe()"
   ]
  },
  {
   "cell_type": "code",
   "execution_count": null,
   "id": "reduced-metallic",
   "metadata": {},
   "outputs": [],
   "source": [
    "df.count()"
   ]
  },
  {
   "cell_type": "code",
   "execution_count": null,
   "id": "transsexual-empire",
   "metadata": {},
   "outputs": [],
   "source": [
    "import numpy as np"
   ]
  },
  {
   "cell_type": "code",
   "execution_count": null,
   "id": "spare-health",
   "metadata": {},
   "outputs": [],
   "source": [
    "df.head()"
   ]
  },
  {
   "cell_type": "code",
   "execution_count": null,
   "id": "comparative-affiliation",
   "metadata": {},
   "outputs": [],
   "source": [
    "earliest = df.iloc[0]['Date']"
   ]
  },
  {
   "cell_type": "code",
   "execution_count": null,
   "id": "external-writer",
   "metadata": {},
   "outputs": [],
   "source": [
    "from datetime import timedelta"
   ]
  },
  {
   "cell_type": "code",
   "execution_count": null,
   "id": "racial-appointment",
   "metadata": {},
   "outputs": [],
   "source": [
    "for i in range (0, len(df.index)):\n",
    "    if df.iloc[i]['Date'] > (earliest + timedelta(week=1)):\n",
    "        print(df.iloc[i])\n",
    "        input()\n",
    "    else:\n",
    "        print(df.iloc[i])\n",
    "    print(df.iloc[i])"
   ]
  },
  {
   "cell_type": "code",
   "execution_count": null,
   "id": "touched-cooper",
   "metadata": {},
   "outputs": [],
   "source": [
    "conn_str.close()"
   ]
  },
  {
   "cell_type": "code",
   "execution_count": null,
   "id": "beginning-puzzle",
   "metadata": {},
   "outputs": [],
   "source": []
  }
 ],
 "metadata": {
  "kernelspec": {
   "display_name": "Python 3.8.5 64-bit",
   "language": "python",
   "name": "python38564bit294f150e2a86464d83848abce420123d"
  },
  "language_info": {
   "codemirror_mode": {
    "name": "ipython",
    "version": 3
   },
   "file_extension": ".py",
   "mimetype": "text/x-python",
   "name": "python",
   "nbconvert_exporter": "python",
   "pygments_lexer": "ipython3",
   "version": "3.8.5"
  }
 },
 "nbformat": 4,
 "nbformat_minor": 5
}

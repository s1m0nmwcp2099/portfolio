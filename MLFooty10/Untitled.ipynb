{
 "cells": [
  {
   "cell_type": "code",
   "execution_count": 3,
   "id": "silver-passenger",
   "metadata": {},
   "outputs": [],
   "source": [
    "import pandas as pd\n",
    "import mysql.connector"
   ]
  },
  {
   "cell_type": "code",
   "execution_count": 18,
   "id": "tired-pound",
   "metadata": {},
   "outputs": [],
   "source": [
    "conn_str = mysql.connector.connect(\n",
    "    user = 'simon',\n",
    "    host = 'localhost',\n",
    "    password = 'chainsaw',\n",
    "    database = 'football'\n",
    ")"
   ]
  },
  {
   "cell_type": "code",
   "execution_count": 19,
   "id": "armed-living",
   "metadata": {},
   "outputs": [],
   "source": [
    "query = \"SELECT ThisDiv, Date, HomeTeam, AwayTeam, FTHG, FTAG, HST, AwST, HS, AwS FROM football_data_complete WHERE ThisDiv = 'E1' ORDER BY Date DESC LIMIT 5000;\""
   ]
  },
  {
   "cell_type": "code",
   "execution_count": 20,
   "id": "polish-retail",
   "metadata": {},
   "outputs": [],
   "source": [
    "e1_df = pd.read_sql_query(query, conn_str)\n",
    "conn_str.close()"
   ]
  },
  {
   "cell_type": "code",
   "execution_count": 21,
   "id": "artistic-davis",
   "metadata": {},
   "outputs": [
    {
     "data": {
      "text/html": [
       "<div>\n",
       "<style scoped>\n",
       "    .dataframe tbody tr th:only-of-type {\n",
       "        vertical-align: middle;\n",
       "    }\n",
       "\n",
       "    .dataframe tbody tr th {\n",
       "        vertical-align: top;\n",
       "    }\n",
       "\n",
       "    .dataframe thead th {\n",
       "        text-align: right;\n",
       "    }\n",
       "</style>\n",
       "<table border=\"1\" class=\"dataframe\">\n",
       "  <thead>\n",
       "    <tr style=\"text-align: right;\">\n",
       "      <th></th>\n",
       "      <th>ThisDiv</th>\n",
       "      <th>Date</th>\n",
       "      <th>HomeTeam</th>\n",
       "      <th>AwayTeam</th>\n",
       "      <th>FTHG</th>\n",
       "      <th>FTAG</th>\n",
       "      <th>HST</th>\n",
       "      <th>AwST</th>\n",
       "      <th>HS</th>\n",
       "      <th>AwS</th>\n",
       "    </tr>\n",
       "  </thead>\n",
       "  <tbody>\n",
       "    <tr>\n",
       "      <th>0</th>\n",
       "      <td>E1</td>\n",
       "      <td>2021-02-20</td>\n",
       "      <td>Stoke</td>\n",
       "      <td>Luton</td>\n",
       "      <td>3</td>\n",
       "      <td>0</td>\n",
       "      <td>8.0</td>\n",
       "      <td>1.0</td>\n",
       "      <td>18.0</td>\n",
       "      <td>8.0</td>\n",
       "    </tr>\n",
       "    <tr>\n",
       "      <th>1</th>\n",
       "      <td>E1</td>\n",
       "      <td>2021-02-20</td>\n",
       "      <td>Sheffield Weds</td>\n",
       "      <td>Birmingham</td>\n",
       "      <td>0</td>\n",
       "      <td>1</td>\n",
       "      <td>3.0</td>\n",
       "      <td>2.0</td>\n",
       "      <td>10.0</td>\n",
       "      <td>7.0</td>\n",
       "    </tr>\n",
       "    <tr>\n",
       "      <th>2</th>\n",
       "      <td>E1</td>\n",
       "      <td>2021-02-20</td>\n",
       "      <td>Reading</td>\n",
       "      <td>Middlesbrough</td>\n",
       "      <td>0</td>\n",
       "      <td>2</td>\n",
       "      <td>3.0</td>\n",
       "      <td>5.0</td>\n",
       "      <td>13.0</td>\n",
       "      <td>8.0</td>\n",
       "    </tr>\n",
       "    <tr>\n",
       "      <th>3</th>\n",
       "      <td>E1</td>\n",
       "      <td>2021-02-20</td>\n",
       "      <td>QPR</td>\n",
       "      <td>Bournemouth</td>\n",
       "      <td>2</td>\n",
       "      <td>1</td>\n",
       "      <td>5.0</td>\n",
       "      <td>5.0</td>\n",
       "      <td>11.0</td>\n",
       "      <td>11.0</td>\n",
       "    </tr>\n",
       "    <tr>\n",
       "      <th>4</th>\n",
       "      <td>E1</td>\n",
       "      <td>2021-02-20</td>\n",
       "      <td>Nottm Forest</td>\n",
       "      <td>Blackburn</td>\n",
       "      <td>1</td>\n",
       "      <td>0</td>\n",
       "      <td>3.0</td>\n",
       "      <td>5.0</td>\n",
       "      <td>13.0</td>\n",
       "      <td>12.0</td>\n",
       "    </tr>\n",
       "  </tbody>\n",
       "</table>\n",
       "</div>"
      ],
      "text/plain": [
       "  ThisDiv        Date        HomeTeam       AwayTeam  FTHG  FTAG  HST  AwST  \\\n",
       "0      E1  2021-02-20           Stoke          Luton     3     0  8.0   1.0   \n",
       "1      E1  2021-02-20  Sheffield Weds     Birmingham     0     1  3.0   2.0   \n",
       "2      E1  2021-02-20         Reading  Middlesbrough     0     2  3.0   5.0   \n",
       "3      E1  2021-02-20             QPR    Bournemouth     2     1  5.0   5.0   \n",
       "4      E1  2021-02-20    Nottm Forest      Blackburn     1     0  3.0   5.0   \n",
       "\n",
       "     HS   AwS  \n",
       "0  18.0   8.0  \n",
       "1  10.0   7.0  \n",
       "2  13.0   8.0  \n",
       "3  11.0  11.0  \n",
       "4  13.0  12.0  "
      ]
     },
     "execution_count": 21,
     "metadata": {},
     "output_type": "execute_result"
    }
   ],
   "source": [
    "e1_df.head()"
   ]
  },
  {
   "cell_type": "code",
   "execution_count": 22,
   "id": "dated-blade",
   "metadata": {},
   "outputs": [
    {
     "data": {
      "text/plain": [
       "FTHG    1.4306\n",
       "FTAG    1.1510\n",
       "dtype: float64"
      ]
     },
     "execution_count": 22,
     "metadata": {},
     "output_type": "execute_result"
    }
   ],
   "source": [
    "e1_df[['FTHG', 'FTAG']].mean()"
   ]
  },
  {
   "cell_type": "code",
   "execution_count": null,
   "id": "breeding-certificate",
   "metadata": {},
   "outputs": [],
   "source": []
  }
 ],
 "metadata": {
  "kernelspec": {
   "display_name": "Python 3.8.5 64-bit",
   "language": "python",
   "name": "python38564bit294f150e2a86464d83848abce420123d"
  },
  "language_info": {
   "codemirror_mode": {
    "name": "ipython",
    "version": 3
   },
   "file_extension": ".py",
   "mimetype": "text/x-python",
   "name": "python",
   "nbconvert_exporter": "python",
   "pygments_lexer": "ipython3",
   "version": "3.8.5"
  }
 },
 "nbformat": 4,
 "nbformat_minor": 5
}

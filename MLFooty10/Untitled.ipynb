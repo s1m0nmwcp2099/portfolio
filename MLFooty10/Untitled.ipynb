{
 "cells": [
  {
   "cell_type": "code",
   "execution_count": 24,
   "id": "accessory-spring",
   "metadata": {},
   "outputs": [],
   "source": [
    "import numpy as np"
   ]
  },
  {
   "cell_type": "code",
   "execution_count": 25,
   "id": "rising-bishop",
   "metadata": {},
   "outputs": [],
   "source": [
    "def return_if_lower(x):\n",
    "    if x < 10:\n",
    "        return x\n",
    "    else:\n",
    "        return None"
   ]
  },
  {
   "cell_type": "code",
   "execution_count": 38,
   "id": "suitable-pocket",
   "metadata": {},
   "outputs": [],
   "source": [
    "x = return_if_lower(11)"
   ]
  },
  {
   "cell_type": "code",
   "execution_count": 39,
   "id": "heated-wagon",
   "metadata": {},
   "outputs": [
    {
     "name": "stdout",
     "output_type": "stream",
     "text": [
      "x: None is none\n"
     ]
    }
   ],
   "source": [
    "if (x is not None):\n",
    "    print(f'x: {x} is not none')\n",
    "else:\n",
    "    print(f'x: {x} is none')"
   ]
  },
  {
   "cell_type": "code",
   "execution_count": null,
   "id": "solved-burlington",
   "metadata": {},
   "outputs": [],
   "source": []
  }
 ],
 "metadata": {
  "kernelspec": {
   "display_name": "Python 3.8.5 64-bit",
   "language": "python",
   "name": "python38564bit294f150e2a86464d83848abce420123d"
  },
  "language_info": {
   "codemirror_mode": {
    "name": "ipython",
    "version": 3
   },
   "file_extension": ".py",
   "mimetype": "text/x-python",
   "name": "python",
   "nbconvert_exporter": "python",
   "pygments_lexer": "ipython3",
   "version": "3.8.5"
  }
 },
 "nbformat": 4,
 "nbformat_minor": 5
}

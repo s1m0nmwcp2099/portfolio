{
 "cells": [
  {
   "cell_type": "code",
   "execution_count": 7,
   "id": "greek-gates",
   "metadata": {},
   "outputs": [],
   "source": [
    "from sklearn.linear_model import LinearRegression\n",
    "from sklearn.model_selection import train_test_split\n",
    "from sklearn.metrics import mean_squared_error\n",
    "import numpy as np\n",
    "import pandas as pd"
   ]
  },
  {
   "cell_type": "code",
   "execution_count": 8,
   "id": "identical-indicator",
   "metadata": {},
   "outputs": [],
   "source": [
    "fname = 'data/historic_match_data_process0.pkl'"
   ]
  },
  {
   "cell_type": "code",
   "execution_count": 9,
   "id": "bizarre-breakdown",
   "metadata": {},
   "outputs": [],
   "source": [
    "class Form:\n",
    "    def __init__(self, ftg, ftr, htg, htr, sht_cor, streak):\n",
    "        self.ftg = ftg    # full time goals - tuple: (average goals for, average goals against)\n",
    "        self.ftr = ftr    # full time results - tuple: (win proportin, draw proportion, loss proportion)\n",
    "        self.htg = htg    # half time goals - tuple\n",
    "        self.htr = htr    # half time results - tuple\n",
    "        self.sht_cor = sht_cor # shots and corners - tuple: (shots on target for, sot against, shots for, s against, corners for, c against)\n",
    "        self.streak = streak # tuple: (w, wx, d, dx, l, lx) "
   ]
  },
  {
   "cell_type": "code",
   "execution_count": 10,
   "id": "operational-adapter",
   "metadata": {},
   "outputs": [],
   "source": [
    "class Team:\n",
    "    def __init__(self, name, home_form, away_form):\n",
    "        self.name = name\n",
    "        self.home_form = home_form\n",
    "        self.away_form = away_form"
   ]
  },
  {
   "cell_type": "code",
   "execution_count": 11,
   "id": "turkish-climb",
   "metadata": {},
   "outputs": [],
   "source": [
    "df = pd.read_pickle(fname)"
   ]
  },
  {
   "cell_type": "code",
   "execution_count": 12,
   "id": "advanced-current",
   "metadata": {},
   "outputs": [
    {
     "data": {
      "text/html": [
       "<div>\n",
       "<style scoped>\n",
       "    .dataframe tbody tr th:only-of-type {\n",
       "        vertical-align: middle;\n",
       "    }\n",
       "\n",
       "    .dataframe tbody tr th {\n",
       "        vertical-align: top;\n",
       "    }\n",
       "\n",
       "    .dataframe thead th {\n",
       "        text-align: right;\n",
       "    }\n",
       "</style>\n",
       "<table border=\"1\" class=\"dataframe\">\n",
       "  <thead>\n",
       "    <tr style=\"text-align: right;\">\n",
       "      <th></th>\n",
       "      <th>ThisDiv</th>\n",
       "      <th>Date</th>\n",
       "      <th>HomeTeam</th>\n",
       "      <th>AwayTeam</th>\n",
       "      <th>FTR</th>\n",
       "    </tr>\n",
       "  </thead>\n",
       "  <tbody>\n",
       "    <tr>\n",
       "      <th>74862</th>\n",
       "      <td>T1</td>\n",
       "      <td>2021-02-28</td>\n",
       "      <td>&lt;__main__.Team object at 0x7f2e4cdf10d0&gt;</td>\n",
       "      <td>&lt;__main__.Team object at 0x7f2e3967ee50&gt;</td>\n",
       "      <td>A</td>\n",
       "    </tr>\n",
       "    <tr>\n",
       "      <th>74863</th>\n",
       "      <td>I1</td>\n",
       "      <td>2021-02-28</td>\n",
       "      <td>&lt;__main__.Team object at 0x7f2e4cdf1790&gt;</td>\n",
       "      <td>&lt;__main__.Team object at 0x7f2e39684550&gt;</td>\n",
       "      <td>H</td>\n",
       "    </tr>\n",
       "    <tr>\n",
       "      <th>74864</th>\n",
       "      <td>D1</td>\n",
       "      <td>2021-02-28</td>\n",
       "      <td>&lt;__main__.Team object at 0x7f2e4cdf1e50&gt;</td>\n",
       "      <td>&lt;__main__.Team object at 0x7f2e39684c10&gt;</td>\n",
       "      <td>D</td>\n",
       "    </tr>\n",
       "    <tr>\n",
       "      <th>74865</th>\n",
       "      <td>SP1</td>\n",
       "      <td>2021-02-28</td>\n",
       "      <td>&lt;__main__.Team object at 0x7f2e4cdf7550&gt;</td>\n",
       "      <td>&lt;__main__.Team object at 0x7f2e39688310&gt;</td>\n",
       "      <td>A</td>\n",
       "    </tr>\n",
       "    <tr>\n",
       "      <th>74866</th>\n",
       "      <td>E1</td>\n",
       "      <td>2021-02-28</td>\n",
       "      <td>&lt;__main__.Team object at 0x7f2e4cdf7c10&gt;</td>\n",
       "      <td>&lt;__main__.Team object at 0x7f2e396889d0&gt;</td>\n",
       "      <td>A</td>\n",
       "    </tr>\n",
       "  </tbody>\n",
       "</table>\n",
       "</div>"
      ],
      "text/plain": [
       "      ThisDiv        Date                                  HomeTeam  \\\n",
       "74862      T1  2021-02-28  <__main__.Team object at 0x7f2e4cdf10d0>   \n",
       "74863      I1  2021-02-28  <__main__.Team object at 0x7f2e4cdf1790>   \n",
       "74864      D1  2021-02-28  <__main__.Team object at 0x7f2e4cdf1e50>   \n",
       "74865     SP1  2021-02-28  <__main__.Team object at 0x7f2e4cdf7550>   \n",
       "74866      E1  2021-02-28  <__main__.Team object at 0x7f2e4cdf7c10>   \n",
       "\n",
       "                                       AwayTeam FTR  \n",
       "74862  <__main__.Team object at 0x7f2e3967ee50>   A  \n",
       "74863  <__main__.Team object at 0x7f2e39684550>   H  \n",
       "74864  <__main__.Team object at 0x7f2e39684c10>   D  \n",
       "74865  <__main__.Team object at 0x7f2e39688310>   A  \n",
       "74866  <__main__.Team object at 0x7f2e396889d0>   A  "
      ]
     },
     "execution_count": 12,
     "metadata": {},
     "output_type": "execute_result"
    }
   ],
   "source": [
    "df.tail()"
   ]
  },
  {
   "cell_type": "code",
   "execution_count": 44,
   "id": "restricted-hebrew",
   "metadata": {},
   "outputs": [],
   "source": [
    "X = [df['HomeTeam'], df['AwayTeam'], df['FTR']]"
   ]
  },
  {
   "cell_type": "code",
   "execution_count": 45,
   "id": "biological-hacker",
   "metadata": {},
   "outputs": [],
   "source": [
    "y = df['FTR']"
   ]
  },
  {
   "cell_type": "code",
   "execution_count": 46,
   "id": "aggressive-black",
   "metadata": {},
   "outputs": [
    {
     "ename": "ValueError",
     "evalue": "Found input variables with inconsistent numbers of samples: [3, 74867]",
     "output_type": "error",
     "traceback": [
      "\u001b[0;31m---------------------------------------------------------------------------\u001b[0m",
      "\u001b[0;31mValueError\u001b[0m                                Traceback (most recent call last)",
      "\u001b[0;32m<ipython-input-46-ed2a69ccfbf1>\u001b[0m in \u001b[0;36m<module>\u001b[0;34m\u001b[0m\n\u001b[0;32m----> 1\u001b[0;31m \u001b[0mX_train\u001b[0m\u001b[0;34m,\u001b[0m \u001b[0mX_test\u001b[0m\u001b[0;34m,\u001b[0m \u001b[0my_train\u001b[0m\u001b[0;34m,\u001b[0m \u001b[0my_test\u001b[0m \u001b[0;34m=\u001b[0m \u001b[0mtrain_test_split\u001b[0m\u001b[0;34m(\u001b[0m\u001b[0mX\u001b[0m\u001b[0;34m,\u001b[0m \u001b[0my\u001b[0m\u001b[0;34m,\u001b[0m \u001b[0mtest_size\u001b[0m \u001b[0;34m=\u001b[0m \u001b[0;36m0.1\u001b[0m\u001b[0;34m,\u001b[0m \u001b[0mrandom_state\u001b[0m \u001b[0;34m=\u001b[0m \u001b[0;36m42\u001b[0m\u001b[0;34m)\u001b[0m\u001b[0;34m\u001b[0m\u001b[0;34m\u001b[0m\u001b[0m\n\u001b[0m",
      "\u001b[0;32m~/.local/lib/python3.8/site-packages/sklearn/model_selection/_split.py\u001b[0m in \u001b[0;36mtrain_test_split\u001b[0;34m(test_size, train_size, random_state, shuffle, stratify, *arrays)\u001b[0m\n\u001b[1;32m   2170\u001b[0m         \u001b[0;32mraise\u001b[0m \u001b[0mValueError\u001b[0m\u001b[0;34m(\u001b[0m\u001b[0;34m\"At least one array required as input\"\u001b[0m\u001b[0;34m)\u001b[0m\u001b[0;34m\u001b[0m\u001b[0;34m\u001b[0m\u001b[0m\n\u001b[1;32m   2171\u001b[0m \u001b[0;34m\u001b[0m\u001b[0m\n\u001b[0;32m-> 2172\u001b[0;31m     \u001b[0marrays\u001b[0m \u001b[0;34m=\u001b[0m \u001b[0mindexable\u001b[0m\u001b[0;34m(\u001b[0m\u001b[0;34m*\u001b[0m\u001b[0marrays\u001b[0m\u001b[0;34m)\u001b[0m\u001b[0;34m\u001b[0m\u001b[0;34m\u001b[0m\u001b[0m\n\u001b[0m\u001b[1;32m   2173\u001b[0m \u001b[0;34m\u001b[0m\u001b[0m\n\u001b[1;32m   2174\u001b[0m     \u001b[0mn_samples\u001b[0m \u001b[0;34m=\u001b[0m \u001b[0m_num_samples\u001b[0m\u001b[0;34m(\u001b[0m\u001b[0marrays\u001b[0m\u001b[0;34m[\u001b[0m\u001b[0;36m0\u001b[0m\u001b[0;34m]\u001b[0m\u001b[0;34m)\u001b[0m\u001b[0;34m\u001b[0m\u001b[0;34m\u001b[0m\u001b[0m\n",
      "\u001b[0;32m~/.local/lib/python3.8/site-packages/sklearn/utils/validation.py\u001b[0m in \u001b[0;36mindexable\u001b[0;34m(*iterables)\u001b[0m\n\u001b[1;32m    297\u001b[0m     \"\"\"\n\u001b[1;32m    298\u001b[0m     \u001b[0mresult\u001b[0m \u001b[0;34m=\u001b[0m \u001b[0;34m[\u001b[0m\u001b[0m_make_indexable\u001b[0m\u001b[0;34m(\u001b[0m\u001b[0mX\u001b[0m\u001b[0;34m)\u001b[0m \u001b[0;32mfor\u001b[0m \u001b[0mX\u001b[0m \u001b[0;32min\u001b[0m \u001b[0miterables\u001b[0m\u001b[0;34m]\u001b[0m\u001b[0;34m\u001b[0m\u001b[0;34m\u001b[0m\u001b[0m\n\u001b[0;32m--> 299\u001b[0;31m     \u001b[0mcheck_consistent_length\u001b[0m\u001b[0;34m(\u001b[0m\u001b[0;34m*\u001b[0m\u001b[0mresult\u001b[0m\u001b[0;34m)\u001b[0m\u001b[0;34m\u001b[0m\u001b[0;34m\u001b[0m\u001b[0m\n\u001b[0m\u001b[1;32m    300\u001b[0m     \u001b[0;32mreturn\u001b[0m \u001b[0mresult\u001b[0m\u001b[0;34m\u001b[0m\u001b[0;34m\u001b[0m\u001b[0m\n\u001b[1;32m    301\u001b[0m \u001b[0;34m\u001b[0m\u001b[0m\n",
      "\u001b[0;32m~/.local/lib/python3.8/site-packages/sklearn/utils/validation.py\u001b[0m in \u001b[0;36mcheck_consistent_length\u001b[0;34m(*arrays)\u001b[0m\n\u001b[1;32m    260\u001b[0m     \u001b[0muniques\u001b[0m \u001b[0;34m=\u001b[0m \u001b[0mnp\u001b[0m\u001b[0;34m.\u001b[0m\u001b[0munique\u001b[0m\u001b[0;34m(\u001b[0m\u001b[0mlengths\u001b[0m\u001b[0;34m)\u001b[0m\u001b[0;34m\u001b[0m\u001b[0;34m\u001b[0m\u001b[0m\n\u001b[1;32m    261\u001b[0m     \u001b[0;32mif\u001b[0m \u001b[0mlen\u001b[0m\u001b[0;34m(\u001b[0m\u001b[0muniques\u001b[0m\u001b[0;34m)\u001b[0m \u001b[0;34m>\u001b[0m \u001b[0;36m1\u001b[0m\u001b[0;34m:\u001b[0m\u001b[0;34m\u001b[0m\u001b[0;34m\u001b[0m\u001b[0m\n\u001b[0;32m--> 262\u001b[0;31m         raise ValueError(\"Found input variables with inconsistent numbers of\"\n\u001b[0m\u001b[1;32m    263\u001b[0m                          \" samples: %r\" % [int(l) for l in lengths])\n\u001b[1;32m    264\u001b[0m \u001b[0;34m\u001b[0m\u001b[0m\n",
      "\u001b[0;31mValueError\u001b[0m: Found input variables with inconsistent numbers of samples: [3, 74867]"
     ]
    }
   ],
   "source": [
    "X_train, X_test, y_train, y_test = train_test_split(X, y, test_size = 0.1, random_state = 42)"
   ]
  },
  {
   "cell_type": "code",
   "execution_count": 42,
   "id": "organic-bride",
   "metadata": {},
   "outputs": [
    {
     "data": {
      "text/plain": [
       "(1, 0, 0, 7, 0, 1)"
      ]
     },
     "execution_count": 42,
     "metadata": {},
     "output_type": "execute_result"
    }
   ],
   "source": [
    "df.iloc[2]['HomeTeam'].home_form.streak"
   ]
  },
  {
   "cell_type": "code",
   "execution_count": 43,
   "id": "immediate-article",
   "metadata": {},
   "outputs": [
    {
     "data": {
      "text/plain": [
       "(0, 1, 1, 0, 0, 10)"
      ]
     },
     "execution_count": 43,
     "metadata": {},
     "output_type": "execute_result"
    }
   ],
   "source": [
    "df.iloc[2]['AwayTeam'].home_form.streak"
   ]
  }
 ],
 "metadata": {
  "kernelspec": {
   "display_name": "Python 3.8.5 64-bit",
   "language": "python",
   "name": "python38564bit294f150e2a86464d83848abce420123d"
  },
  "language_info": {
   "codemirror_mode": {
    "name": "ipython",
    "version": 3
   },
   "file_extension": ".py",
   "mimetype": "text/x-python",
   "name": "python",
   "nbconvert_exporter": "python",
   "pygments_lexer": "ipython3",
   "version": "3.8.5"
  }
 },
 "nbformat": 4,
 "nbformat_minor": 5
}

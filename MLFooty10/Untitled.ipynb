{
 "cells": [
  {
   "cell_type": "code",
   "execution_count": 1,
   "id": "thorough-garlic",
   "metadata": {},
   "outputs": [],
   "source": [
    "import pandas as pd\n",
    "import mysql.connector"
   ]
  },
  {
   "cell_type": "code",
   "execution_count": 111,
   "id": "proper-chicago",
   "metadata": {},
   "outputs": [],
   "source": [
    "conn_str = mysql.connector.connect(\n",
    "    user = 'simon',\n",
    "    host = 'localhost',\n",
    "    password = 'chainsaw',\n",
    "    database = 'football'\n",
    ")\n",
    "query = \"SELECT ThisDiv, Date, HomeTeam, AwayTeam, FTHG, FTAG, FTR, HTHG, HTAG, HTR, HST, AwST, HS, AwS, HC, AC FROM football_data_complete ORDER BY Date;\"\n",
    "df = pd.read_sql_query(query, conn_str)\n",
    "conn_str.close()"
   ]
  },
  {
   "cell_type": "code",
   "execution_count": 112,
   "id": "fabulous-cassette",
   "metadata": {},
   "outputs": [],
   "source": [
    "df = df.dropna()"
   ]
  },
  {
   "cell_type": "code",
   "execution_count": 113,
   "id": "becoming-montreal",
   "metadata": {},
   "outputs": [
    {
     "data": {
      "text/html": [
       "<div>\n",
       "<style scoped>\n",
       "    .dataframe tbody tr th:only-of-type {\n",
       "        vertical-align: middle;\n",
       "    }\n",
       "\n",
       "    .dataframe tbody tr th {\n",
       "        vertical-align: top;\n",
       "    }\n",
       "\n",
       "    .dataframe thead th {\n",
       "        text-align: right;\n",
       "    }\n",
       "</style>\n",
       "<table border=\"1\" class=\"dataframe\">\n",
       "  <thead>\n",
       "    <tr style=\"text-align: right;\">\n",
       "      <th></th>\n",
       "      <th>FTHG</th>\n",
       "      <th>FTAG</th>\n",
       "      <th>HTHG</th>\n",
       "      <th>HTAG</th>\n",
       "      <th>HST</th>\n",
       "      <th>AwST</th>\n",
       "      <th>HS</th>\n",
       "      <th>AwS</th>\n",
       "      <th>HC</th>\n",
       "      <th>AC</th>\n",
       "    </tr>\n",
       "  </thead>\n",
       "  <tbody>\n",
       "    <tr>\n",
       "      <th>count</th>\n",
       "      <td>88913.000000</td>\n",
       "      <td>88913.000000</td>\n",
       "      <td>88913.000000</td>\n",
       "      <td>88913.000000</td>\n",
       "      <td>88913.000000</td>\n",
       "      <td>88913.000000</td>\n",
       "      <td>88913.000000</td>\n",
       "      <td>88913.000000</td>\n",
       "      <td>88913.000000</td>\n",
       "      <td>88913.000000</td>\n",
       "    </tr>\n",
       "    <tr>\n",
       "      <th>mean</th>\n",
       "      <td>1.485362</td>\n",
       "      <td>1.155174</td>\n",
       "      <td>0.657328</td>\n",
       "      <td>0.504043</td>\n",
       "      <td>5.313115</td>\n",
       "      <td>4.259715</td>\n",
       "      <td>12.509059</td>\n",
       "      <td>10.124099</td>\n",
       "      <td>5.773543</td>\n",
       "      <td>4.681993</td>\n",
       "    </tr>\n",
       "    <tr>\n",
       "      <th>std</th>\n",
       "      <td>1.252787</td>\n",
       "      <td>1.110454</td>\n",
       "      <td>0.813452</td>\n",
       "      <td>0.715603</td>\n",
       "      <td>2.838321</td>\n",
       "      <td>2.481868</td>\n",
       "      <td>4.877710</td>\n",
       "      <td>4.329260</td>\n",
       "      <td>2.942527</td>\n",
       "      <td>2.626435</td>\n",
       "    </tr>\n",
       "    <tr>\n",
       "      <th>min</th>\n",
       "      <td>0.000000</td>\n",
       "      <td>0.000000</td>\n",
       "      <td>0.000000</td>\n",
       "      <td>0.000000</td>\n",
       "      <td>0.000000</td>\n",
       "      <td>0.000000</td>\n",
       "      <td>0.000000</td>\n",
       "      <td>0.000000</td>\n",
       "      <td>0.000000</td>\n",
       "      <td>0.000000</td>\n",
       "    </tr>\n",
       "    <tr>\n",
       "      <th>25%</th>\n",
       "      <td>1.000000</td>\n",
       "      <td>0.000000</td>\n",
       "      <td>0.000000</td>\n",
       "      <td>0.000000</td>\n",
       "      <td>3.000000</td>\n",
       "      <td>2.000000</td>\n",
       "      <td>9.000000</td>\n",
       "      <td>7.000000</td>\n",
       "      <td>4.000000</td>\n",
       "      <td>3.000000</td>\n",
       "    </tr>\n",
       "    <tr>\n",
       "      <th>50%</th>\n",
       "      <td>1.000000</td>\n",
       "      <td>1.000000</td>\n",
       "      <td>0.000000</td>\n",
       "      <td>0.000000</td>\n",
       "      <td>5.000000</td>\n",
       "      <td>4.000000</td>\n",
       "      <td>12.000000</td>\n",
       "      <td>10.000000</td>\n",
       "      <td>5.000000</td>\n",
       "      <td>4.000000</td>\n",
       "    </tr>\n",
       "    <tr>\n",
       "      <th>75%</th>\n",
       "      <td>2.000000</td>\n",
       "      <td>2.000000</td>\n",
       "      <td>1.000000</td>\n",
       "      <td>1.000000</td>\n",
       "      <td>7.000000</td>\n",
       "      <td>6.000000</td>\n",
       "      <td>15.000000</td>\n",
       "      <td>13.000000</td>\n",
       "      <td>8.000000</td>\n",
       "      <td>6.000000</td>\n",
       "    </tr>\n",
       "    <tr>\n",
       "      <th>max</th>\n",
       "      <td>10.000000</td>\n",
       "      <td>13.000000</td>\n",
       "      <td>7.000000</td>\n",
       "      <td>6.000000</td>\n",
       "      <td>27.000000</td>\n",
       "      <td>23.000000</td>\n",
       "      <td>43.000000</td>\n",
       "      <td>45.000000</td>\n",
       "      <td>26.000000</td>\n",
       "      <td>21.000000</td>\n",
       "    </tr>\n",
       "  </tbody>\n",
       "</table>\n",
       "</div>"
      ],
      "text/plain": [
       "               FTHG          FTAG          HTHG          HTAG           HST  \\\n",
       "count  88913.000000  88913.000000  88913.000000  88913.000000  88913.000000   \n",
       "mean       1.485362      1.155174      0.657328      0.504043      5.313115   \n",
       "std        1.252787      1.110454      0.813452      0.715603      2.838321   \n",
       "min        0.000000      0.000000      0.000000      0.000000      0.000000   \n",
       "25%        1.000000      0.000000      0.000000      0.000000      3.000000   \n",
       "50%        1.000000      1.000000      0.000000      0.000000      5.000000   \n",
       "75%        2.000000      2.000000      1.000000      1.000000      7.000000   \n",
       "max       10.000000     13.000000      7.000000      6.000000     27.000000   \n",
       "\n",
       "               AwST            HS           AwS            HC            AC  \n",
       "count  88913.000000  88913.000000  88913.000000  88913.000000  88913.000000  \n",
       "mean       4.259715     12.509059     10.124099      5.773543      4.681993  \n",
       "std        2.481868      4.877710      4.329260      2.942527      2.626435  \n",
       "min        0.000000      0.000000      0.000000      0.000000      0.000000  \n",
       "25%        2.000000      9.000000      7.000000      4.000000      3.000000  \n",
       "50%        4.000000     12.000000     10.000000      5.000000      4.000000  \n",
       "75%        6.000000     15.000000     13.000000      8.000000      6.000000  \n",
       "max       23.000000     43.000000     45.000000     26.000000     21.000000  "
      ]
     },
     "execution_count": 113,
     "metadata": {},
     "output_type": "execute_result"
    }
   ],
   "source": [
    "df.describe()"
   ]
  },
  {
   "cell_type": "code",
   "execution_count": 114,
   "id": "genetic-pantyhose",
   "metadata": {},
   "outputs": [
    {
     "data": {
      "text/plain": [
       "ThisDiv     88913\n",
       "Date        88913\n",
       "HomeTeam    88913\n",
       "AwayTeam    88913\n",
       "FTHG        88913\n",
       "FTAG        88913\n",
       "FTR         88913\n",
       "HTHG        88913\n",
       "HTAG        88913\n",
       "HTR         88913\n",
       "HST         88913\n",
       "AwST        88913\n",
       "HS          88913\n",
       "AwS         88913\n",
       "HC          88913\n",
       "AC          88913\n",
       "dtype: int64"
      ]
     },
     "execution_count": 114,
     "metadata": {},
     "output_type": "execute_result"
    }
   ],
   "source": [
    "df.count()"
   ]
  },
  {
   "cell_type": "code",
   "execution_count": 115,
   "id": "measured-painting",
   "metadata": {},
   "outputs": [],
   "source": [
    "import numpy as np"
   ]
  },
  {
   "cell_type": "code",
   "execution_count": 116,
   "id": "overall-sweden",
   "metadata": {},
   "outputs": [
    {
     "data": {
      "text/html": [
       "<div>\n",
       "<style scoped>\n",
       "    .dataframe tbody tr th:only-of-type {\n",
       "        vertical-align: middle;\n",
       "    }\n",
       "\n",
       "    .dataframe tbody tr th {\n",
       "        vertical-align: top;\n",
       "    }\n",
       "\n",
       "    .dataframe thead th {\n",
       "        text-align: right;\n",
       "    }\n",
       "</style>\n",
       "<table border=\"1\" class=\"dataframe\">\n",
       "  <thead>\n",
       "    <tr style=\"text-align: right;\">\n",
       "      <th></th>\n",
       "      <th>ThisDiv</th>\n",
       "      <th>Date</th>\n",
       "      <th>HomeTeam</th>\n",
       "      <th>AwayTeam</th>\n",
       "      <th>FTHG</th>\n",
       "      <th>FTAG</th>\n",
       "      <th>FTR</th>\n",
       "      <th>HTHG</th>\n",
       "      <th>HTAG</th>\n",
       "      <th>HTR</th>\n",
       "      <th>HST</th>\n",
       "      <th>AwST</th>\n",
       "      <th>HS</th>\n",
       "      <th>AwS</th>\n",
       "      <th>HC</th>\n",
       "      <th>AC</th>\n",
       "    </tr>\n",
       "  </thead>\n",
       "  <tbody>\n",
       "    <tr>\n",
       "      <th>43018</th>\n",
       "      <td>SC0</td>\n",
       "      <td>2000-07-29</td>\n",
       "      <td>Dunfermline</td>\n",
       "      <td>Aberdeen</td>\n",
       "      <td>0.0</td>\n",
       "      <td>0.0</td>\n",
       "      <td>D</td>\n",
       "      <td>0.0</td>\n",
       "      <td>0.0</td>\n",
       "      <td>D</td>\n",
       "      <td>8.0</td>\n",
       "      <td>0.0</td>\n",
       "      <td>23.0</td>\n",
       "      <td>10.0</td>\n",
       "      <td>6.0</td>\n",
       "      <td>6.0</td>\n",
       "    </tr>\n",
       "    <tr>\n",
       "      <th>43023</th>\n",
       "      <td>SC0</td>\n",
       "      <td>2000-07-29</td>\n",
       "      <td>Motherwell</td>\n",
       "      <td>Dundee</td>\n",
       "      <td>0.0</td>\n",
       "      <td>2.0</td>\n",
       "      <td>A</td>\n",
       "      <td>0.0</td>\n",
       "      <td>1.0</td>\n",
       "      <td>A</td>\n",
       "      <td>5.0</td>\n",
       "      <td>4.0</td>\n",
       "      <td>8.0</td>\n",
       "      <td>7.0</td>\n",
       "      <td>5.0</td>\n",
       "      <td>4.0</td>\n",
       "    </tr>\n",
       "    <tr>\n",
       "      <th>43028</th>\n",
       "      <td>SC0</td>\n",
       "      <td>2000-07-29</td>\n",
       "      <td>Rangers</td>\n",
       "      <td>St Johnstone</td>\n",
       "      <td>2.0</td>\n",
       "      <td>1.0</td>\n",
       "      <td>H</td>\n",
       "      <td>0.0</td>\n",
       "      <td>1.0</td>\n",
       "      <td>A</td>\n",
       "      <td>8.0</td>\n",
       "      <td>2.0</td>\n",
       "      <td>12.0</td>\n",
       "      <td>5.0</td>\n",
       "      <td>4.0</td>\n",
       "      <td>2.0</td>\n",
       "    </tr>\n",
       "    <tr>\n",
       "      <th>43029</th>\n",
       "      <td>SC0</td>\n",
       "      <td>2000-07-29</td>\n",
       "      <td>St Mirren</td>\n",
       "      <td>Kilmarnock</td>\n",
       "      <td>0.0</td>\n",
       "      <td>1.0</td>\n",
       "      <td>A</td>\n",
       "      <td>0.0</td>\n",
       "      <td>0.0</td>\n",
       "      <td>D</td>\n",
       "      <td>4.0</td>\n",
       "      <td>3.0</td>\n",
       "      <td>9.0</td>\n",
       "      <td>5.0</td>\n",
       "      <td>6.0</td>\n",
       "      <td>6.0</td>\n",
       "    </tr>\n",
       "    <tr>\n",
       "      <th>43031</th>\n",
       "      <td>SC0</td>\n",
       "      <td>2000-07-30</td>\n",
       "      <td>Dundee United</td>\n",
       "      <td>Celtic</td>\n",
       "      <td>1.0</td>\n",
       "      <td>2.0</td>\n",
       "      <td>A</td>\n",
       "      <td>0.0</td>\n",
       "      <td>1.0</td>\n",
       "      <td>A</td>\n",
       "      <td>4.0</td>\n",
       "      <td>9.0</td>\n",
       "      <td>8.0</td>\n",
       "      <td>15.0</td>\n",
       "      <td>6.0</td>\n",
       "      <td>11.0</td>\n",
       "    </tr>\n",
       "  </tbody>\n",
       "</table>\n",
       "</div>"
      ],
      "text/plain": [
       "      ThisDiv        Date       HomeTeam      AwayTeam  FTHG  FTAG FTR  HTHG  \\\n",
       "43018     SC0  2000-07-29    Dunfermline      Aberdeen   0.0   0.0   D   0.0   \n",
       "43023     SC0  2000-07-29     Motherwell        Dundee   0.0   2.0   A   0.0   \n",
       "43028     SC0  2000-07-29        Rangers  St Johnstone   2.0   1.0   H   0.0   \n",
       "43029     SC0  2000-07-29      St Mirren    Kilmarnock   0.0   1.0   A   0.0   \n",
       "43031     SC0  2000-07-30  Dundee United        Celtic   1.0   2.0   A   0.0   \n",
       "\n",
       "       HTAG HTR  HST  AwST    HS   AwS   HC    AC  \n",
       "43018   0.0   D  8.0   0.0  23.0  10.0  6.0   6.0  \n",
       "43023   1.0   A  5.0   4.0   8.0   7.0  5.0   4.0  \n",
       "43028   1.0   A  8.0   2.0  12.0   5.0  4.0   2.0  \n",
       "43029   0.0   D  4.0   3.0   9.0   5.0  6.0   6.0  \n",
       "43031   1.0   A  4.0   9.0   8.0  15.0  6.0  11.0  "
      ]
     },
     "execution_count": 116,
     "metadata": {},
     "output_type": "execute_result"
    }
   ],
   "source": [
    "df.head()"
   ]
  },
  {
   "cell_type": "code",
   "execution_count": 117,
   "id": "adverse-vehicle",
   "metadata": {},
   "outputs": [],
   "source": [
    "earliest = df.iloc[0]['Date']"
   ]
  },
  {
   "cell_type": "code",
   "execution_count": 118,
   "id": "reflected-governor",
   "metadata": {},
   "outputs": [],
   "source": [
    "from datetime import timedelta"
   ]
  },
  {
   "cell_type": "code",
   "execution_count": 119,
   "id": "useful-snake",
   "metadata": {},
   "outputs": [],
   "source": [
    "conn_str.close()"
   ]
  },
  {
   "cell_type": "code",
   "execution_count": 120,
   "id": "compressed-organizer",
   "metadata": {},
   "outputs": [],
   "source": [
    "avFtgspg, avFtgcpg, avHtgspg, avHtgcpg, avsTfpg, avsTapg, avsfpg, avsapg, avcfpg, avcapg = 0.0, 0.0, 0.0, 0.0, 0.0, 0.0, 0.0, 0.0, 0.0, 0.0"
   ]
  },
  {
   "cell_type": "code",
   "execution_count": 121,
   "id": "utility-france",
   "metadata": {},
   "outputs": [
    {
     "name": "stdout",
     "output_type": "stream",
     "text": [
      "0.0\n"
     ]
    }
   ],
   "source": [
    "print(avsapg)"
   ]
  },
  {
   "cell_type": "code",
   "execution_count": 122,
   "id": "driven-titanium",
   "metadata": {},
   "outputs": [],
   "source": [
    "league_list = df['ThisDiv'].unique().tolist()"
   ]
  },
  {
   "cell_type": "code",
   "execution_count": 123,
   "id": "cardiac-mason",
   "metadata": {},
   "outputs": [
    {
     "data": {
      "text/plain": [
       "list"
      ]
     },
     "execution_count": 123,
     "metadata": {},
     "output_type": "execute_result"
    }
   ],
   "source": [
    "type(league_list)"
   ]
  },
  {
   "cell_type": "code",
   "execution_count": 124,
   "id": "sweet-triangle",
   "metadata": {},
   "outputs": [
    {
     "data": {
      "text/plain": [
       "['SC0',\n",
       " 'SC3',\n",
       " 'SC2',\n",
       " 'SC1',\n",
       " 'D1',\n",
       " 'E3',\n",
       " 'E1',\n",
       " 'E2',\n",
       " 'D2',\n",
       " 'E0',\n",
       " 'EC',\n",
       " 'SP1',\n",
       " 'I1',\n",
       " 'F1',\n",
       " 'B1',\n",
       " 'F2',\n",
       " 'P1',\n",
       " 'T1',\n",
       " 'N1',\n",
       " 'SP2',\n",
       " 'G1',\n",
       " 'I2']"
      ]
     },
     "execution_count": 124,
     "metadata": {},
     "output_type": "execute_result"
    }
   ],
   "source": [
    "league_list"
   ]
  },
  {
   "cell_type": "code",
   "execution_count": 125,
   "id": "trying-romance",
   "metadata": {},
   "outputs": [
    {
     "data": {
      "text/plain": [
       "str"
      ]
     },
     "execution_count": 125,
     "metadata": {},
     "output_type": "execute_result"
    }
   ],
   "source": [
    "type(league_list[0])"
   ]
  },
  {
   "cell_type": "code",
   "execution_count": 126,
   "id": "electoral-yield",
   "metadata": {},
   "outputs": [],
   "source": [
    "our_date = df.iloc[0]['Date']"
   ]
  },
  {
   "cell_type": "code",
   "execution_count": 127,
   "id": "generous-wilson",
   "metadata": {},
   "outputs": [
    {
     "data": {
      "text/plain": [
       "datetime.date(2000, 7, 29)"
      ]
     },
     "execution_count": 127,
     "metadata": {},
     "output_type": "execute_result"
    }
   ],
   "source": [
    "our_date"
   ]
  },
  {
   "cell_type": "code",
   "execution_count": 128,
   "id": "sixth-result",
   "metadata": {},
   "outputs": [
    {
     "data": {
      "text/plain": [
       "datetime.date"
      ]
     },
     "execution_count": 128,
     "metadata": {},
     "output_type": "execute_result"
    }
   ],
   "source": [
    "type(our_date)"
   ]
  },
  {
   "cell_type": "code",
   "execution_count": 129,
   "id": "thorough-advantage",
   "metadata": {},
   "outputs": [
    {
     "data": {
      "text/plain": [
       "1.4853620955315872"
      ]
     },
     "execution_count": 129,
     "metadata": {},
     "output_type": "execute_result"
    }
   ],
   "source": [
    "df['FTHG'].mean()"
   ]
  },
  {
   "cell_type": "code",
   "execution_count": 130,
   "id": "direct-croatia",
   "metadata": {},
   "outputs": [],
   "source": [
    "sample_date = df.iloc[10000]['Date']"
   ]
  },
  {
   "cell_type": "code",
   "execution_count": 131,
   "id": "valid-arthur",
   "metadata": {},
   "outputs": [],
   "source": [
    "one_year_earlier = sample_date - timedelta(days=365)"
   ]
  },
  {
   "cell_type": "code",
   "execution_count": 132,
   "id": "valuable-fisher",
   "metadata": {},
   "outputs": [],
   "source": [
    "df_nffc = df.loc[((df['HomeTeam'] == 'Nottm Forest') | (df['AwayTeam'] == 'Nottm Forest')) & (df['Date'] < sample_date) & (df['Date'] > one_year_earlier)]"
   ]
  },
  {
   "cell_type": "code",
   "execution_count": 133,
   "id": "flexible-garden",
   "metadata": {},
   "outputs": [
    {
     "data": {
      "text/plain": [
       "datetime.date(2003, 12, 26)"
      ]
     },
     "execution_count": 133,
     "metadata": {},
     "output_type": "execute_result"
    }
   ],
   "source": [
    "sample_date"
   ]
  },
  {
   "cell_type": "code",
   "execution_count": 134,
   "id": "light-athens",
   "metadata": {},
   "outputs": [
    {
     "data": {
      "text/html": [
       "<div>\n",
       "<style scoped>\n",
       "    .dataframe tbody tr th:only-of-type {\n",
       "        vertical-align: middle;\n",
       "    }\n",
       "\n",
       "    .dataframe tbody tr th {\n",
       "        vertical-align: top;\n",
       "    }\n",
       "\n",
       "    .dataframe thead th {\n",
       "        text-align: right;\n",
       "    }\n",
       "</style>\n",
       "<table border=\"1\" class=\"dataframe\">\n",
       "  <thead>\n",
       "    <tr style=\"text-align: right;\">\n",
       "      <th></th>\n",
       "      <th>ThisDiv</th>\n",
       "      <th>Date</th>\n",
       "      <th>HomeTeam</th>\n",
       "      <th>AwayTeam</th>\n",
       "      <th>FTHG</th>\n",
       "      <th>FTAG</th>\n",
       "      <th>FTR</th>\n",
       "      <th>HTHG</th>\n",
       "      <th>HTAG</th>\n",
       "      <th>HTR</th>\n",
       "      <th>HST</th>\n",
       "      <th>AwST</th>\n",
       "      <th>HS</th>\n",
       "      <th>AwS</th>\n",
       "      <th>HC</th>\n",
       "      <th>AC</th>\n",
       "    </tr>\n",
       "  </thead>\n",
       "  <tbody>\n",
       "    <tr>\n",
       "      <th>66894</th>\n",
       "      <td>E1</td>\n",
       "      <td>2003-11-22</td>\n",
       "      <td>Wigan</td>\n",
       "      <td>Nottm Forest</td>\n",
       "      <td>2.0</td>\n",
       "      <td>2.0</td>\n",
       "      <td>D</td>\n",
       "      <td>1.0</td>\n",
       "      <td>0.0</td>\n",
       "      <td>H</td>\n",
       "      <td>9.0</td>\n",
       "      <td>6.0</td>\n",
       "      <td>11.0</td>\n",
       "      <td>9.0</td>\n",
       "      <td>5.0</td>\n",
       "      <td>5.0</td>\n",
       "    </tr>\n",
       "    <tr>\n",
       "      <th>67044</th>\n",
       "      <td>E1</td>\n",
       "      <td>2003-11-29</td>\n",
       "      <td>Nottm Forest</td>\n",
       "      <td>West Brom</td>\n",
       "      <td>0.0</td>\n",
       "      <td>3.0</td>\n",
       "      <td>A</td>\n",
       "      <td>0.0</td>\n",
       "      <td>2.0</td>\n",
       "      <td>A</td>\n",
       "      <td>5.0</td>\n",
       "      <td>4.0</td>\n",
       "      <td>15.0</td>\n",
       "      <td>7.0</td>\n",
       "      <td>9.0</td>\n",
       "      <td>4.0</td>\n",
       "    </tr>\n",
       "    <tr>\n",
       "      <th>67173</th>\n",
       "      <td>E1</td>\n",
       "      <td>2003-12-03</td>\n",
       "      <td>Nottm Forest</td>\n",
       "      <td>Ipswich</td>\n",
       "      <td>1.0</td>\n",
       "      <td>1.0</td>\n",
       "      <td>D</td>\n",
       "      <td>0.0</td>\n",
       "      <td>0.0</td>\n",
       "      <td>D</td>\n",
       "      <td>13.0</td>\n",
       "      <td>8.0</td>\n",
       "      <td>13.0</td>\n",
       "      <td>8.0</td>\n",
       "      <td>9.0</td>\n",
       "      <td>4.0</td>\n",
       "    </tr>\n",
       "    <tr>\n",
       "      <th>67270</th>\n",
       "      <td>E1</td>\n",
       "      <td>2003-12-06</td>\n",
       "      <td>Watford</td>\n",
       "      <td>Nottm Forest</td>\n",
       "      <td>1.0</td>\n",
       "      <td>1.0</td>\n",
       "      <td>D</td>\n",
       "      <td>0.0</td>\n",
       "      <td>0.0</td>\n",
       "      <td>D</td>\n",
       "      <td>2.0</td>\n",
       "      <td>3.0</td>\n",
       "      <td>5.0</td>\n",
       "      <td>8.0</td>\n",
       "      <td>7.0</td>\n",
       "      <td>3.0</td>\n",
       "    </tr>\n",
       "    <tr>\n",
       "      <th>67396</th>\n",
       "      <td>E1</td>\n",
       "      <td>2003-12-13</td>\n",
       "      <td>Crystal Palace</td>\n",
       "      <td>Nottm Forest</td>\n",
       "      <td>1.0</td>\n",
       "      <td>0.0</td>\n",
       "      <td>H</td>\n",
       "      <td>1.0</td>\n",
       "      <td>0.0</td>\n",
       "      <td>H</td>\n",
       "      <td>4.0</td>\n",
       "      <td>1.0</td>\n",
       "      <td>8.0</td>\n",
       "      <td>6.0</td>\n",
       "      <td>5.0</td>\n",
       "      <td>4.0</td>\n",
       "    </tr>\n",
       "  </tbody>\n",
       "</table>\n",
       "</div>"
      ],
      "text/plain": [
       "      ThisDiv        Date        HomeTeam      AwayTeam  FTHG  FTAG FTR  HTHG  \\\n",
       "66894      E1  2003-11-22           Wigan  Nottm Forest   2.0   2.0   D   1.0   \n",
       "67044      E1  2003-11-29    Nottm Forest     West Brom   0.0   3.0   A   0.0   \n",
       "67173      E1  2003-12-03    Nottm Forest       Ipswich   1.0   1.0   D   0.0   \n",
       "67270      E1  2003-12-06         Watford  Nottm Forest   1.0   1.0   D   0.0   \n",
       "67396      E1  2003-12-13  Crystal Palace  Nottm Forest   1.0   0.0   H   1.0   \n",
       "\n",
       "       HTAG HTR   HST  AwST    HS  AwS   HC   AC  \n",
       "66894   0.0   H   9.0   6.0  11.0  9.0  5.0  5.0  \n",
       "67044   2.0   A   5.0   4.0  15.0  7.0  9.0  4.0  \n",
       "67173   0.0   D  13.0   8.0  13.0  8.0  9.0  4.0  \n",
       "67270   0.0   D   2.0   3.0   5.0  8.0  7.0  3.0  \n",
       "67396   0.0   H   4.0   1.0   8.0  6.0  5.0  4.0  "
      ]
     },
     "execution_count": 134,
     "metadata": {},
     "output_type": "execute_result"
    }
   ],
   "source": [
    "df_nffc.tail()"
   ]
  },
  {
   "cell_type": "code",
   "execution_count": 135,
   "id": "color-review",
   "metadata": {},
   "outputs": [
    {
     "data": {
      "text/html": [
       "<div>\n",
       "<style scoped>\n",
       "    .dataframe tbody tr th:only-of-type {\n",
       "        vertical-align: middle;\n",
       "    }\n",
       "\n",
       "    .dataframe tbody tr th {\n",
       "        vertical-align: top;\n",
       "    }\n",
       "\n",
       "    .dataframe thead th {\n",
       "        text-align: right;\n",
       "    }\n",
       "</style>\n",
       "<table border=\"1\" class=\"dataframe\">\n",
       "  <thead>\n",
       "    <tr style=\"text-align: right;\">\n",
       "      <th></th>\n",
       "      <th>ThisDiv</th>\n",
       "      <th>Date</th>\n",
       "      <th>HomeTeam</th>\n",
       "      <th>AwayTeam</th>\n",
       "      <th>FTHG</th>\n",
       "      <th>FTAG</th>\n",
       "      <th>FTR</th>\n",
       "      <th>HTHG</th>\n",
       "      <th>HTAG</th>\n",
       "      <th>HTR</th>\n",
       "      <th>HST</th>\n",
       "      <th>AwST</th>\n",
       "      <th>HS</th>\n",
       "      <th>AwS</th>\n",
       "      <th>HC</th>\n",
       "      <th>AC</th>\n",
       "    </tr>\n",
       "  </thead>\n",
       "  <tbody>\n",
       "    <tr>\n",
       "      <th>60605</th>\n",
       "      <td>E1</td>\n",
       "      <td>2002-12-28</td>\n",
       "      <td>Nottm Forest</td>\n",
       "      <td>Portsmouth</td>\n",
       "      <td>1.0</td>\n",
       "      <td>2.0</td>\n",
       "      <td>A</td>\n",
       "      <td>0.0</td>\n",
       "      <td>0.0</td>\n",
       "      <td>D</td>\n",
       "      <td>3.0</td>\n",
       "      <td>17.0</td>\n",
       "      <td>4.0</td>\n",
       "      <td>23.0</td>\n",
       "      <td>4.0</td>\n",
       "      <td>7.0</td>\n",
       "    </tr>\n",
       "    <tr>\n",
       "      <th>60660</th>\n",
       "      <td>E1</td>\n",
       "      <td>2003-01-01</td>\n",
       "      <td>Nottm Forest</td>\n",
       "      <td>Walsall</td>\n",
       "      <td>1.0</td>\n",
       "      <td>1.0</td>\n",
       "      <td>D</td>\n",
       "      <td>1.0</td>\n",
       "      <td>0.0</td>\n",
       "      <td>H</td>\n",
       "      <td>2.0</td>\n",
       "      <td>5.0</td>\n",
       "      <td>6.0</td>\n",
       "      <td>11.0</td>\n",
       "      <td>8.0</td>\n",
       "      <td>3.0</td>\n",
       "    </tr>\n",
       "    <tr>\n",
       "      <th>60908</th>\n",
       "      <td>E1</td>\n",
       "      <td>2003-01-18</td>\n",
       "      <td>Nottm Forest</td>\n",
       "      <td>Coventry</td>\n",
       "      <td>1.0</td>\n",
       "      <td>1.0</td>\n",
       "      <td>D</td>\n",
       "      <td>1.0</td>\n",
       "      <td>0.0</td>\n",
       "      <td>H</td>\n",
       "      <td>8.0</td>\n",
       "      <td>3.0</td>\n",
       "      <td>15.0</td>\n",
       "      <td>5.0</td>\n",
       "      <td>10.0</td>\n",
       "      <td>3.0</td>\n",
       "    </tr>\n",
       "    <tr>\n",
       "      <th>61056</th>\n",
       "      <td>E1</td>\n",
       "      <td>2003-01-25</td>\n",
       "      <td>Preston</td>\n",
       "      <td>Nottm Forest</td>\n",
       "      <td>1.0</td>\n",
       "      <td>1.0</td>\n",
       "      <td>D</td>\n",
       "      <td>1.0</td>\n",
       "      <td>1.0</td>\n",
       "      <td>D</td>\n",
       "      <td>9.0</td>\n",
       "      <td>9.0</td>\n",
       "      <td>14.0</td>\n",
       "      <td>16.0</td>\n",
       "      <td>5.0</td>\n",
       "      <td>7.0</td>\n",
       "    </tr>\n",
       "    <tr>\n",
       "      <th>61242</th>\n",
       "      <td>E1</td>\n",
       "      <td>2003-02-01</td>\n",
       "      <td>Wimbledon</td>\n",
       "      <td>Nottm Forest</td>\n",
       "      <td>2.0</td>\n",
       "      <td>3.0</td>\n",
       "      <td>A</td>\n",
       "      <td>0.0</td>\n",
       "      <td>2.0</td>\n",
       "      <td>A</td>\n",
       "      <td>5.0</td>\n",
       "      <td>10.0</td>\n",
       "      <td>10.0</td>\n",
       "      <td>14.0</td>\n",
       "      <td>4.0</td>\n",
       "      <td>4.0</td>\n",
       "    </tr>\n",
       "  </tbody>\n",
       "</table>\n",
       "</div>"
      ],
      "text/plain": [
       "      ThisDiv        Date      HomeTeam      AwayTeam  FTHG  FTAG FTR  HTHG  \\\n",
       "60605      E1  2002-12-28  Nottm Forest    Portsmouth   1.0   2.0   A   0.0   \n",
       "60660      E1  2003-01-01  Nottm Forest       Walsall   1.0   1.0   D   1.0   \n",
       "60908      E1  2003-01-18  Nottm Forest      Coventry   1.0   1.0   D   1.0   \n",
       "61056      E1  2003-01-25       Preston  Nottm Forest   1.0   1.0   D   1.0   \n",
       "61242      E1  2003-02-01     Wimbledon  Nottm Forest   2.0   3.0   A   0.0   \n",
       "\n",
       "       HTAG HTR  HST  AwST    HS   AwS    HC   AC  \n",
       "60605   0.0   D  3.0  17.0   4.0  23.0   4.0  7.0  \n",
       "60660   0.0   H  2.0   5.0   6.0  11.0   8.0  3.0  \n",
       "60908   0.0   H  8.0   3.0  15.0   5.0  10.0  3.0  \n",
       "61056   1.0   D  9.0   9.0  14.0  16.0   5.0  7.0  \n",
       "61242   2.0   A  5.0  10.0  10.0  14.0   4.0  4.0  "
      ]
     },
     "execution_count": 135,
     "metadata": {},
     "output_type": "execute_result"
    }
   ],
   "source": [
    "df_nffc.head()"
   ]
  },
  {
   "cell_type": "code",
   "execution_count": 27,
   "id": "operational-plate",
   "metadata": {},
   "outputs": [
    {
     "data": {
      "text/plain": [
       "365.0"
      ]
     },
     "execution_count": 27,
     "metadata": {},
     "output_type": "execute_result"
    }
   ],
   "source": [
    "gap = float((sample_date - one_year_earlier).days)\n",
    "gap"
   ]
  },
  {
   "cell_type": "code",
   "execution_count": 28,
   "id": "distributed-spectacular",
   "metadata": {},
   "outputs": [
    {
     "data": {
      "text/plain": [
       "float"
      ]
     },
     "execution_count": 28,
     "metadata": {},
     "output_type": "execute_result"
    }
   ],
   "source": [
    "type(gap)"
   ]
  },
  {
   "cell_type": "code",
   "execution_count": 29,
   "id": "clean-liver",
   "metadata": {},
   "outputs": [
    {
     "data": {
      "text/plain": [
       "0.07769223206730236"
      ]
     },
     "execution_count": 29,
     "metadata": {},
     "output_type": "execute_result"
    }
   ],
   "source": [
    "x = np.exp(-0.007 * 365)\n",
    "x"
   ]
  },
  {
   "cell_type": "code",
   "execution_count": 84,
   "id": "instructional-edition",
   "metadata": {},
   "outputs": [],
   "source": [
    "def time_weighted_averages_per_game(df, at_home, this_match_date): # going back 365 days, i = row index\n",
    "    team_averages = [0.0, 0.0, 0.0, 0.0, 0.0, 0.0, 0.0, 0.0,0.0, 0.0, 0.0, 0.0, 0.0, 0.0, 0.0, 0.0]\n",
    "    pld_weight = 0.0 # number of games played represented as time-weighted units\n",
    "    if at_home == True:\n",
    "        adj = 0 # adjuster\n",
    "        h_or_a = 'HomeTeam'\n",
    "    else:\n",
    "        adj = 1\n",
    "        h_or_a = 'AwayTeam'\n",
    "    for i in range (0, len(df)):\n",
    "        that_match_date = df.iloc[i, 1] # date of previous match\n",
    "        days_gap = float((this_match_date - that_match_date).days)\n",
    "        time_coeff = np.exp(-0.007 * days_gap)\n",
    "        pld_weight += time_coeff\n",
    "\n",
    "        team_averages[0] += (df.iloc[i, 4+adj] * time_coeff) # full time goals for\n",
    "        team_averages[1] += (df.iloc[i, 5-adj] * time_coeff) # full time goals against\n",
    "        if (df.iloc[i, 6]=='H' and at_home==True) or (df.iloc[i, 6]=='A' and at_home==False):\n",
    "            team_averages[2] += time_coeff                   # full time win\n",
    "        elif df.iloc[i, 6] == 'D':\n",
    "            team_averages[3] += time_coeff                   # full time draw\n",
    "        elif (df.iloc[i, 6]=='H' and at_home==False) or (df.iloc[i, 6]=='A' and at_home==True):\n",
    "            team_averages[4] += time_coeff                   # full time loss\n",
    "        team_averages[5] += (df.iloc[i, 7+adj] * time_coeff) # half time goals for\n",
    "        team_averages[6] += (df.iloc[i, 8-adj] * time_coeff) # half time goals against\n",
    "        if (df.iloc[i, 9]=='H' and at_home==True) or (df.iloc[i, 9]=='A' and at_home==False):\n",
    "            team_averages[7] += time_coeff                   # half time win\n",
    "        elif df.iloc[i, 9] == 'D':\n",
    "            team_averages[8] += time_coeff                   # half time draw\n",
    "        elif (df.iloc[i, 9]=='H' and at_home==False) or (df.iloc[i, 9]=='A' and at_home==True):\n",
    "            team_averages[9] += time_coeff                   # half time loss\n",
    "        team_averages[10] += (df.iloc[i, 10+adj] * time_coeff) # shots on target for\n",
    "        team_averages[11] += (df.iloc[i, 11-adj] * time_coeff) # shots on target against\n",
    "        team_averages[12] += (df.iloc[i, 12+adj] * time_coeff)# shots for\n",
    "        team_averages[13] += (df.iloc[i, 13-adj] * time_coeff)# shots against\n",
    "        team_averages[14] += (df.iloc[i, 14+adj] * time_coeff)# corners for\n",
    "        team_averages[15] += (df.iloc[i, 15-adj] * time_coeff)# corners against\n",
    "\n",
    "    for i in range (0, len(team_averages)):\n",
    "        team_averages[i] /= pld_weight\n",
    "\n",
    "    return team_averages"
   ]
  },
  {
   "cell_type": "code",
   "execution_count": 85,
   "id": "norman-salvation",
   "metadata": {},
   "outputs": [],
   "source": [
    "import datetime\n",
    "from datetime import date"
   ]
  },
  {
   "cell_type": "code",
   "execution_count": 86,
   "id": "reliable-jesus",
   "metadata": {},
   "outputs": [],
   "source": [
    "match_date = datetime.date(2021, 2, 26)"
   ]
  },
  {
   "cell_type": "code",
   "execution_count": 95,
   "id": "norwegian-details",
   "metadata": {},
   "outputs": [],
   "source": [
    "earliest_date = match_date - timedelta(days=365)"
   ]
  },
  {
   "cell_type": "code",
   "execution_count": 96,
   "id": "champion-adoption",
   "metadata": {},
   "outputs": [],
   "source": [
    "df_nffc_home = df.loc[(df['HomeTeam']=='Nottm Forest') & (df['Date'] > earliest_date) & (df['Date'] < match_date)]"
   ]
  },
  {
   "cell_type": "code",
   "execution_count": 97,
   "id": "alien-lending",
   "metadata": {},
   "outputs": [],
   "source": [
    "nffc_home_averages = time_weighted_averages_per_game(df_nffc_home, True, match_date)"
   ]
  },
  {
   "cell_type": "code",
   "execution_count": 98,
   "id": "prompt-relative",
   "metadata": {},
   "outputs": [
    {
     "data": {
      "text/plain": [
       "[0.9534919798853035,\n",
       " 0.8596562158384357,\n",
       " 0.3377531781003631,\n",
       " 0.37287654010320287,\n",
       " 0.28937028179643387,\n",
       " 0.3734344075132063,\n",
       " 0.44709135829310204,\n",
       " 0.32020983017769644,\n",
       " 0.33210479815908334,\n",
       " 0.34768537166322,\n",
       " 3.435335282925507,\n",
       " 3.4318637989028993,\n",
       " 12.361308477123993,\n",
       " 10.241474397864163,\n",
       " 5.137659838996378,\n",
       " 5.2779581287834665]"
      ]
     },
     "execution_count": 98,
     "metadata": {},
     "output_type": "execute_result"
    }
   ],
   "source": [
    "nffc_home_averages"
   ]
  },
  {
   "cell_type": "code",
   "execution_count": 99,
   "id": "impressed-craps",
   "metadata": {},
   "outputs": [
    {
     "data": {
      "text/plain": [
       "[0.8784710573323459,\n",
       " 1.063245628305687,\n",
       " 0.2926498110447326,\n",
       " 0.24630922682851075,\n",
       " 0.4610409621267567,\n",
       " 0.2290001709748711,\n",
       " 0.4137889569263372,\n",
       " 0.1110699285872199,\n",
       " 0.5930713568740943,\n",
       " 0.29585871453868595,\n",
       " 2.231622245768504,\n",
       " 3.739012750226578,\n",
       " 9.943551456574124,\n",
       " 12.221555582884427,\n",
       " 5.0586489356638475,\n",
       " 5.317793558349834]"
      ]
     },
     "execution_count": 99,
     "metadata": {},
     "output_type": "execute_result"
    }
   ],
   "source": [
    "df_nffc_away = df.loc[(df['AwayTeam']=='Nottm Forest') & (df['Date'] > earliest_date) & (df['Date'] < match_date)]\n",
    "nffc_away_averages = time_weighted_averages_per_game(df_nffc_away, False, match_date)\n",
    "nffc_away_averages"
   ]
  },
  {
   "cell_type": "code",
   "execution_count": 100,
   "id": "higher-boards",
   "metadata": {},
   "outputs": [],
   "source": [
    "df_lg_year = df.loc[(df['Date']<match_date) & (df['Date']>earliest_date)]"
   ]
  },
  {
   "cell_type": "code",
   "execution_count": 101,
   "id": "higher-foster",
   "metadata": {},
   "outputs": [],
   "source": [
    "lg_avs_home = time_weighted_averages_per_game(df_lg_year, True, match_date)\n",
    "lg_avs_away = time_weighted_averages_per_game(df_lg_year, False, match_date)"
   ]
  },
  {
   "cell_type": "code",
   "execution_count": 102,
   "id": "front-pennsylvania",
   "metadata": {},
   "outputs": [
    {
     "name": "stdout",
     "output_type": "stream",
     "text": [
      "1.375203254604277\n",
      "1.2112167166613483\n",
      "0.4036999424937573\n",
      "0.26459796250986795\n",
      "0.33170209499636766\n",
      "0.6215562229076265\n",
      "0.5374123175742729\n",
      "0.31937889583749896\n",
      "0.41832319059236556\n",
      "0.2622979135701273\n",
      "4.317464951111433\n",
      "3.8600324084998596\n",
      "11.927513164335899\n",
      "10.698453764724187\n",
      "5.002017529083962\n",
      "4.5174347105925925\n"
     ]
    }
   ],
   "source": [
    "for i in range (0, len(lg_avs_home)):\n",
    "    print(lg_avs_home[i])"
   ]
  },
  {
   "cell_type": "code",
   "execution_count": 103,
   "id": "mature-metabolism",
   "metadata": {},
   "outputs": [
    {
     "data": {
      "text/plain": [
       "4.535678725522735"
      ]
     },
     "execution_count": 103,
     "metadata": {},
     "output_type": "execute_result"
    }
   ],
   "source": [
    "df_lg_year['AC'].mean()"
   ]
  },
  {
   "cell_type": "code",
   "execution_count": 105,
   "id": "international-season",
   "metadata": {},
   "outputs": [],
   "source": [
    "df_lg_year2 = df.loc[(df['Date']<match_date) & (df['Date']>earliest_date)]"
   ]
  },
  {
   "cell_type": "code",
   "execution_count": 106,
   "id": "invisible-resort",
   "metadata": {},
   "outputs": [],
   "source": [
    "lg_avs2_home = time_weighted_averages_per_game(df_lg_year2, True, match_date)\n",
    "lg_avs2_away = time_weighted_averages_per_game(df_lg_year2, False, match_date)"
   ]
  },
  {
   "cell_type": "code",
   "execution_count": 107,
   "id": "right-graduation",
   "metadata": {},
   "outputs": [
    {
     "name": "stdout",
     "output_type": "stream",
     "text": [
      "1.375203254604277\n",
      "1.2112167166613483\n",
      "0.4036999424937573\n",
      "0.26459796250986795\n",
      "0.33170209499636766\n",
      "0.6215562229076265\n",
      "0.5374123175742729\n",
      "0.31937889583749896\n",
      "0.41832319059236556\n",
      "0.2622979135701273\n",
      "4.317464951111433\n",
      "3.8600324084998596\n",
      "11.927513164335899\n",
      "10.698453764724187\n",
      "5.002017529083962\n",
      "4.5174347105925925\n"
     ]
    }
   ],
   "source": [
    "for i in range (0, len(lg_avs2_home)):\n",
    "    print(lg_avs2_home[i])"
   ]
  },
  {
   "cell_type": "code",
   "execution_count": 58,
   "id": "improved-heath",
   "metadata": {},
   "outputs": [
    {
     "data": {
      "text/html": [
       "<div>\n",
       "<style scoped>\n",
       "    .dataframe tbody tr th:only-of-type {\n",
       "        vertical-align: middle;\n",
       "    }\n",
       "\n",
       "    .dataframe tbody tr th {\n",
       "        vertical-align: top;\n",
       "    }\n",
       "\n",
       "    .dataframe thead th {\n",
       "        text-align: right;\n",
       "    }\n",
       "</style>\n",
       "<table border=\"1\" class=\"dataframe\">\n",
       "  <thead>\n",
       "    <tr style=\"text-align: right;\">\n",
       "      <th></th>\n",
       "      <th>ThisDiv</th>\n",
       "      <th>Date</th>\n",
       "      <th>HomeTeam</th>\n",
       "      <th>AwayTeam</th>\n",
       "      <th>FTHG</th>\n",
       "      <th>FTAG</th>\n",
       "      <th>HTHG</th>\n",
       "      <th>HTAG</th>\n",
       "      <th>HST</th>\n",
       "      <th>AwST</th>\n",
       "      <th>HS</th>\n",
       "      <th>AwS</th>\n",
       "      <th>HC</th>\n",
       "      <th>AC</th>\n",
       "    </tr>\n",
       "  </thead>\n",
       "  <tbody>\n",
       "    <tr>\n",
       "      <th>238043</th>\n",
       "      <td>I1</td>\n",
       "      <td>2021-02-22</td>\n",
       "      <td>Juventus</td>\n",
       "      <td>Crotone</td>\n",
       "      <td>3.0</td>\n",
       "      <td>0.0</td>\n",
       "      <td>2.0</td>\n",
       "      <td>0.0</td>\n",
       "      <td>9.0</td>\n",
       "      <td>3.0</td>\n",
       "      <td>26.0</td>\n",
       "      <td>16.0</td>\n",
       "      <td>7.0</td>\n",
       "      <td>3.0</td>\n",
       "    </tr>\n",
       "    <tr>\n",
       "      <th>238045</th>\n",
       "      <td>P1</td>\n",
       "      <td>2021-02-22</td>\n",
       "      <td>Maritimo</td>\n",
       "      <td>Porto</td>\n",
       "      <td>1.0</td>\n",
       "      <td>2.0</td>\n",
       "      <td>1.0</td>\n",
       "      <td>1.0</td>\n",
       "      <td>7.0</td>\n",
       "      <td>6.0</td>\n",
       "      <td>12.0</td>\n",
       "      <td>14.0</td>\n",
       "      <td>3.0</td>\n",
       "      <td>3.0</td>\n",
       "    </tr>\n",
       "    <tr>\n",
       "      <th>238046</th>\n",
       "      <td>SP1</td>\n",
       "      <td>2021-02-22</td>\n",
       "      <td>Osasuna</td>\n",
       "      <td>Sevilla</td>\n",
       "      <td>0.0</td>\n",
       "      <td>2.0</td>\n",
       "      <td>0.0</td>\n",
       "      <td>1.0</td>\n",
       "      <td>0.0</td>\n",
       "      <td>5.0</td>\n",
       "      <td>6.0</td>\n",
       "      <td>10.0</td>\n",
       "      <td>3.0</td>\n",
       "      <td>5.0</td>\n",
       "    </tr>\n",
       "    <tr>\n",
       "      <th>238048</th>\n",
       "      <td>G1</td>\n",
       "      <td>2021-02-22</td>\n",
       "      <td>Panetolikos</td>\n",
       "      <td>Panathinaikos</td>\n",
       "      <td>1.0</td>\n",
       "      <td>0.0</td>\n",
       "      <td>1.0</td>\n",
       "      <td>0.0</td>\n",
       "      <td>3.0</td>\n",
       "      <td>3.0</td>\n",
       "      <td>4.0</td>\n",
       "      <td>7.0</td>\n",
       "      <td>2.0</td>\n",
       "      <td>8.0</td>\n",
       "    </tr>\n",
       "    <tr>\n",
       "      <th>238052</th>\n",
       "      <td>SP2</td>\n",
       "      <td>2021-02-22</td>\n",
       "      <td>Zaragoza</td>\n",
       "      <td>Alcorcon</td>\n",
       "      <td>0.0</td>\n",
       "      <td>1.0</td>\n",
       "      <td>0.0</td>\n",
       "      <td>0.0</td>\n",
       "      <td>2.0</td>\n",
       "      <td>1.0</td>\n",
       "      <td>11.0</td>\n",
       "      <td>13.0</td>\n",
       "      <td>4.0</td>\n",
       "      <td>6.0</td>\n",
       "    </tr>\n",
       "  </tbody>\n",
       "</table>\n",
       "</div>"
      ],
      "text/plain": [
       "       ThisDiv        Date     HomeTeam       AwayTeam  FTHG  FTAG  HTHG  \\\n",
       "238043      I1  2021-02-22     Juventus        Crotone   3.0   0.0   2.0   \n",
       "238045      P1  2021-02-22     Maritimo          Porto   1.0   2.0   1.0   \n",
       "238046     SP1  2021-02-22      Osasuna        Sevilla   0.0   2.0   0.0   \n",
       "238048      G1  2021-02-22  Panetolikos  Panathinaikos   1.0   0.0   1.0   \n",
       "238052     SP2  2021-02-22     Zaragoza       Alcorcon   0.0   1.0   0.0   \n",
       "\n",
       "        HTAG  HST  AwST    HS   AwS   HC   AC  \n",
       "238043   0.0  9.0   3.0  26.0  16.0  7.0  3.0  \n",
       "238045   1.0  7.0   6.0  12.0  14.0  3.0  3.0  \n",
       "238046   1.0  0.0   5.0   6.0  10.0  3.0  5.0  \n",
       "238048   0.0  3.0   3.0   4.0   7.0  2.0  8.0  \n",
       "238052   0.0  2.0   1.0  11.0  13.0  4.0  6.0  "
      ]
     },
     "execution_count": 58,
     "metadata": {},
     "output_type": "execute_result"
    }
   ],
   "source": [
    "df.tail()"
   ]
  },
  {
   "cell_type": "code",
   "execution_count": null,
   "id": "electoral-model",
   "metadata": {},
   "outputs": [],
   "source": []
  }
 ],
 "metadata": {
  "kernelspec": {
   "display_name": "Python 3.8.5 64-bit",
   "language": "python",
   "name": "python38564bit294f150e2a86464d83848abce420123d"
  },
  "language_info": {
   "codemirror_mode": {
    "name": "ipython",
    "version": 3
   },
   "file_extension": ".py",
   "mimetype": "text/x-python",
   "name": "python",
   "nbconvert_exporter": "python",
   "pygments_lexer": "ipython3",
   "version": "3.8.5"
  }
 },
 "nbformat": 4,
 "nbformat_minor": 5
}

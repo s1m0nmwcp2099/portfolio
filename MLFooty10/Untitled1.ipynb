{
 "cells": [
  {
   "cell_type": "code",
   "execution_count": 5,
   "id": "opening-interview",
   "metadata": {},
   "outputs": [],
   "source": [
    "import pandas as pd\n",
    "import numpy as np\n",
    "import mysql.connector\n",
    "from datetime import timedelta\n",
    "from datetime import date"
   ]
  },
  {
   "cell_type": "code",
   "execution_count": 43,
   "id": "limiting-clone",
   "metadata": {},
   "outputs": [],
   "source": [
    "class Form:\n",
    "    def __init__(self, ftg, ftr, htg, htr, sht_cor):\n",
    "        self.ftg = ftg    # full time goals - tuple: (average goals for, average goals against)\n",
    "        self.ftr = ftr    # full time results - tuple: (win proportin, draw proportion, loss proportion)\n",
    "        self.htg = htg    # half time goals - tuple\n",
    "        self.htr = htr    # half time results - tuple\n",
    "        self.sht_cor = sht_cor # shots and corners - tuple: (shots on target for, sot against, shots for, s against, corners for, c against)\n",
    "        "
   ]
  },
  {
   "cell_type": "code",
   "execution_count": 44,
   "id": "average-prairie",
   "metadata": {},
   "outputs": [],
   "source": [
    "class Team:\n",
    "    def __init__(self, name, home_form, away_form):\n",
    "        self.name = name\n",
    "        self.home_form = home_form\n",
    "        self.away_form = away_form"
   ]
  },
  {
   "cell_type": "code",
   "execution_count": 48,
   "id": "preceding-split",
   "metadata": {},
   "outputs": [],
   "source": [
    "def team_averages_per_game_and_runs(team, opp_team, this_match_date, earliest_date, at_home, df, min_games):\n",
    "    if at_home == True:\n",
    "        adj = 0 # adjuster\n",
    "        h_or_a = 'HomeTeam'\n",
    "    else:\n",
    "        adj = 1\n",
    "        h_or_a = 'AwayTeam'\n",
    "        \n",
    "    \n",
    "    df_team = df.loc[(df['Date']>earliest_date) & (df['Date']<this_match_date) & (df[h_or_a]==team)]\n",
    "    \n",
    "    if len(df_team) >= min_games:\n",
    "        team_averages_and_runs = {\n",
    "            'ftg_for': 0.0,  # full time goals for\n",
    "            'ftg_ag': 0.0,   # full time goals against\n",
    "            'ftw': 0.0,      # full time win\n",
    "            'ftd': 0.0,      # full time draw\n",
    "            'ftl': 0.0,      # full time loss\n",
    "            'htg_for': 0.0,  # half time goals for\n",
    "            'htg_ag': 0.0,   # half time goals against\n",
    "            'htw': 0.0,      # half time win\n",
    "            'htd': 0.0,      # half time draw\n",
    "            'htl': 0.0,      # half time loss\n",
    "            'sot_for': 0.0,  # shots on target for\n",
    "            'sot_ag': 0.0,   # shots on target against\n",
    "            's_for': 0.0,    # shots for\n",
    "            's_ag': 0.0,     # shots against\n",
    "            'c_for': 0.0,    # corners for\n",
    "            'c_ag': 0.0,     # corners against\n",
    "            'win_run': 0,    # runs\n",
    "            'winless_run': 0, \n",
    "            'draw_run': 0,\n",
    "            'drawless_run': 0,\n",
    "            'losing_run': 0,\n",
    "            'lossless_run': 0\n",
    "        }\n",
    "        pld_weight = 0.0 # number of games played represented as time-weighted units\n",
    "\n",
    "\n",
    "        for i in range (0, len(df_team)):\n",
    "            that_match_date = df_team.iloc[i]['Date'] # date of previous match\n",
    "            days_gap = float((this_match_date - that_match_date).days)\n",
    "            time_coeff = np.exp(-0.007 * days_gap)\n",
    "            relevance = time_coeff\n",
    "            if df_team.iloc[i, 3-adj] == opp_team: #is this previous match's opposition the same as today's?\n",
    "                relevance *= 1.5\n",
    "            pld_weight += relevance\n",
    "\n",
    "            team_averages_and_runs['ftg_for'] += (df_team.iloc[i, 4+adj] * relevance)\n",
    "            team_averages_and_runs['ftg_ag'] += (df_team.iloc[i, 5-adj] * relevance)\n",
    "            if (df_team.iloc[i, 6]=='H' and at_home==True) or (df_team.iloc[i, 6]=='A' and at_home==False):\n",
    "                team_averages_and_runs['ftw'] += relevance                    \n",
    "            elif df_team.iloc[i, 6] == 'D':\n",
    "                team_averages_and_runs['ftd'] += relevance                    \n",
    "            elif (df_team.iloc[i, 6]=='A' and at_home==True) or (df_team.iloc[i, 6]=='H' and at_home==False): # perhaps just 'else' but this feels right\n",
    "                team_averages_and_runs['ftl'] += relevance                    \n",
    "            team_averages_and_runs['htg_for'] += (df_team.iloc[i, 7+adj] * relevance)  \n",
    "            team_averages_and_runs['htg_ag'] += (df_team.iloc[i, 8-adj] * relevance)  \n",
    "            if (df_team.iloc[i, 9]=='H' and at_home==True) or (df_team.iloc[i, 9]=='A' and at_home==False):\n",
    "                team_averages_and_runs['htw'] += relevance                    \n",
    "            elif df_team.iloc[i, 9] == 'D':\n",
    "                team_averages_and_runs['htd'] += relevance                    \n",
    "            elif (df_team.iloc[i, 9]=='A' and at_home==True) or (df_team.iloc[i, 9]=='H' and at_home==False):\n",
    "                team_averages_and_runs['htl'] += relevance                    \n",
    "            team_averages_and_runs['sot_for'] += (df_team.iloc[i, 10+adj] * relevance)\n",
    "            team_averages_and_runs['sot_ag'] += (df_team.iloc[i, 11-adj] * relevance)\n",
    "            team_averages_and_runs['s_for'] += (df_team.iloc[i, 12+adj] * relevance)\n",
    "            team_averages_and_runs['s_ag'] += (df_team.iloc[i, 13-adj] * relevance)\n",
    "            team_averages_and_runs['c_for'] += (df_team.iloc[i, 14+adj] * relevance)\n",
    "            team_averages_and_runs['c_ag'] += (df_team.iloc[i, 15-adj] * relevance)\n",
    "\n",
    "        # divide\n",
    "        tm_av_key_list = list(team_averages_and_runs.keys())\n",
    "        for j in range(0, len(tm_av_key_list)):\n",
    "            team_averages_and_runs[tm_av_key_list[j]] /= pld_weight\n",
    "        return team_averages_and_runs\n",
    "    else:\n",
    "        return None"
   ]
  },
  {
   "cell_type": "code",
   "execution_count": 46,
   "id": "fatal-disco",
   "metadata": {},
   "outputs": [],
   "source": [
    "    "
   ]
  },
  {
   "cell_type": "code",
   "execution_count": 27,
   "id": "insured-jordan",
   "metadata": {},
   "outputs": [
    {
     "name": "stdout",
     "output_type": "stream",
     "text": [
      "Fetching from sql\n",
      "Fetched from mysql\n"
     ]
    }
   ],
   "source": [
    "conn_str = mysql.connector.connect(\n",
    "    host = 'localhost',\n",
    "    user = 'simon',\n",
    "    password = 'chainsaw',\n",
    "    database = 'football'\n",
    ")\n",
    "\n",
    "\n",
    "query = \"SELECT ThisDiv, Date, HomeTeam, AwayTeam, FTHG, FTAG, FTR, HTHG, HTAG, HTR, HST, AwST, HS, AwS, HC, AC FROM football_data_complete ORDER BY Date;\"\n",
    "print('Fetching from sql')\n",
    "df_raw = pd.read_sql_query(query, conn_str)\n",
    "print('Fetched from mysql')\n",
    "conn_str.close()"
   ]
  },
  {
   "cell_type": "code",
   "execution_count": 8,
   "id": "rising-livestock",
   "metadata": {},
   "outputs": [],
   "source": [
    "df_raw = df_raw.dropna()"
   ]
  },
  {
   "cell_type": "code",
   "execution_count": 49,
   "id": "educated-presentation",
   "metadata": {},
   "outputs": [
    {
     "data": {
      "text/plain": [
       "{'ftg_for': 0.9543807664114148,\n",
       " 'ftg_ag': 0.8623382406607925,\n",
       " 'ftw': 0.3312985822455711,\n",
       " 'ftd': 0.38486111566651515,\n",
       " 'ftl': 0.2838403020879136,\n",
       " 'htg_for': 0.36629792935383504,\n",
       " 'htg_ag': 0.45765765953980575,\n",
       " 'htw': 0.31409049459023247,\n",
       " 'htd': 0.32575814506284756,\n",
       " 'htl': 0.36015136034691975,\n",
       " 'sot_for': 3.4652366400460233,\n",
       " 'sot_ag': 3.4427211047887645,\n",
       " 's_for': 12.354403730255697,\n",
       " 's_ag': 10.275080512619118,\n",
       " 'c_for': 5.192360283392282,\n",
       " 'c_ag': 5.27264623980009,\n",
       " 'win_run': 0.0,\n",
       " 'winless_run': 0.0,\n",
       " 'draw_run': 0.0,\n",
       " 'drawless_run': 0.0,\n",
       " 'losing_run': 0.0,\n",
       " 'lossless_run': 0.0}"
      ]
     },
     "execution_count": 49,
     "metadata": {},
     "output_type": "execute_result"
    }
   ],
   "source": [
    "nffc_form = team_averages_per_game_and_runs('Nottm Forest', 'Derby', date(2021,2,28), date(2020,2,28), True, df_raw, 10)\n",
    "nffc_form"
   ]
  },
  {
   "cell_type": "code",
   "execution_count": 31,
   "id": "identical-breach",
   "metadata": {},
   "outputs": [
    {
     "data": {
      "text/plain": [
       "13.0"
      ]
     },
     "execution_count": 31,
     "metadata": {},
     "output_type": "execute_result"
    }
   ],
   "source": []
  },
  {
   "cell_type": "code",
   "execution_count": null,
   "id": "flying-waste",
   "metadata": {},
   "outputs": [],
   "source": []
  },
  {
   "cell_type": "code",
   "execution_count": 41,
   "id": "moral-telephone",
   "metadata": {},
   "outputs": [
    {
     "data": {
      "text/plain": [
       "1.313781500602812"
      ]
     },
     "execution_count": 41,
     "metadata": {},
     "output_type": "execute_result"
    }
   ],
   "source": [
    "df_raw[['FTHG', 'FTAG']].mean(axis=1).mean()"
   ]
  },
  {
   "cell_type": "code",
   "execution_count": 42,
   "id": "ceramic-airplane",
   "metadata": {},
   "outputs": [
    {
     "data": {
      "text/plain": [
       "0.8264706487353691"
      ]
     },
     "execution_count": 42,
     "metadata": {},
     "output_type": "execute_result"
    }
   ],
   "source": [
    "df_raw[['FTHG', 'FTAG']].std(axis=1).std()"
   ]
  },
  {
   "cell_type": "code",
   "execution_count": null,
   "id": "postal-sequence",
   "metadata": {},
   "outputs": [],
   "source": []
  }
 ],
 "metadata": {
  "kernelspec": {
   "display_name": "Python 3",
   "language": "python",
   "name": "python3"
  },
  "language_info": {
   "codemirror_mode": {
    "name": "ipython",
    "version": 3
   },
   "file_extension": ".py",
   "mimetype": "text/x-python",
   "name": "python",
   "nbconvert_exporter": "python",
   "pygments_lexer": "ipython3",
   "version": "3.8.5"
  }
 },
 "nbformat": 4,
 "nbformat_minor": 5
}

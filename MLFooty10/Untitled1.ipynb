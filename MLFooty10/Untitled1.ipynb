{
 "cells": [
  {
   "cell_type": "code",
   "execution_count": 1,
   "id": "stupid-cursor",
   "metadata": {},
   "outputs": [],
   "source": [
    "import pandas as pd\n",
    "import numpy as np\n",
    "import mysql.connector\n",
    "from datetime import timedelta\n",
    "from datetime import date"
   ]
  },
  {
   "cell_type": "code",
   "execution_count": 2,
   "id": "senior-headquarters",
   "metadata": {},
   "outputs": [],
   "source": [
    "class Form:\n",
    "    def __init__(self, ftg, ftr, htg, htr, sht_cor, streak):\n",
    "        self.ftg = ftg    # full time goals - tuple: (average goals for, average goals against)\n",
    "        self.ftr = ftr    # full time results - tuple: (win proportin, draw proportion, loss proportion)\n",
    "        self.htg = htg    # half time goals - tuple\n",
    "        self.htr = htr    # half time results - tuple\n",
    "        self.sht_cor = sht_cor # shots and corners - tuple: (shots on target for, sot against, shots for, s against, corners for, c against)\n",
    "        self.streak = streak # tuple: (w, wx, d, dx, l, lx)       "
   ]
  },
  {
   "cell_type": "code",
   "execution_count": 3,
   "id": "divided-worcester",
   "metadata": {},
   "outputs": [],
   "source": [
    "class Team:\n",
    "    def __init__(self, name, home_form, away_form):\n",
    "        self.name = name\n",
    "        self.home_form = home_form\n",
    "        self.away_form = away_form"
   ]
  },
  {
   "cell_type": "code",
   "execution_count": 4,
   "id": "south-invention",
   "metadata": {},
   "outputs": [],
   "source": [
    "def team_averages_per_game_and_runs(team, opp_team, this_match_date, earliest_date, at_home, df, min_games, this_div):\n",
    "    if at_home == True:\n",
    "        adj = 0 # adjuster\n",
    "        h_or_a = 'HomeTeam'\n",
    "    else:\n",
    "        adj = 1\n",
    "        h_or_a = 'AwayTeam'\n",
    "        \n",
    "    \n",
    "    df_team = df.loc[(df['Date']>earliest_date) & (df['Date']<this_match_date) & (df[h_or_a]==team)]\n",
    "    \n",
    "    if len(df_team) >= min_games:\n",
    "        team_averages_and_runs = {\n",
    "            'ftg_for': 0.0,  # full time goals for\n",
    "            'ftg_ag': 0.0,   # full time goals against\n",
    "            'ftw': 0.0,      # full time win\n",
    "            'ftd': 0.0,      # full time draw\n",
    "            'ftl': 0.0,      # full time loss\n",
    "            'htg_for': 0.0,  # half time goals for\n",
    "            'htg_ag': 0.0,   # half time goals against\n",
    "            'htw': 0.0,      # half time win\n",
    "            'htd': 0.0,      # half time draw\n",
    "            'htl': 0.0,      # half time loss\n",
    "            'sot_for': 0.0,  # shots on target for\n",
    "            'sot_ag': 0.0,   # shots on target against\n",
    "            's_for': 0.0,    # shots for\n",
    "            's_ag': 0.0,     # shots against\n",
    "            'c_for': 0.0,    # corners for\n",
    "            'c_ag': 0.0,     # corners against\n",
    "            'winning_run': 0,    # runs\n",
    "            'winless_run': 0, \n",
    "            'drawing_run': 0,\n",
    "            'drawless_run': 0,\n",
    "            'losing_run': 0,\n",
    "            'lossless_run': 0\n",
    "        }\n",
    "        pld_weight = 0.0 # number of games played represented as time-weighted units\n",
    "\n",
    "        w_run, wx_run, d_run, dx_run, l_run, lx_run = True, True, True, True, True, True\n",
    "\n",
    "        for i in range (len(df_team)-1, -1, -1):\n",
    "            that_match_date = df_team.iloc[i]['Date'] # date of previous match\n",
    "            days_gap = float((this_match_date - that_match_date).days)\n",
    "            time_coeff = np.exp(-0.007 * days_gap)\n",
    "            relevance = time_coeff\n",
    "            if df_team.iloc[i, 3-adj] == opp_team: #is this previous match's opposition the same as today's?\n",
    "                relevance *= 1.5\n",
    "            if this_div != df_team.iloc[i]['ThisDiv']: # different division?\n",
    "                relevance *= 0.5\n",
    "            pld_weight += relevance\n",
    "\n",
    "            team_averages_and_runs['ftg_for'] += (df_team.iloc[i, 4+adj] * relevance)\n",
    "            team_averages_and_runs['ftg_ag'] += (df_team.iloc[i, 5-adj] * relevance)\n",
    "            if (df_team.iloc[i, 6]=='H' and at_home==True) or (df_team.iloc[i, 6]=='A' and at_home==False):\n",
    "                team_averages_and_runs['ftw'] += relevance\n",
    "                if w_run == True:\n",
    "                    team_averages_and_runs['winning_run'] += 1\n",
    "                if dx_run == True:\n",
    "                    team_averages_and_runs['drawless_run'] += 1\n",
    "                if lx_run == True:\n",
    "                    team_averages_and_runs['lossless_run'] += 1\n",
    "                wx_run = False\n",
    "                d_run = False\n",
    "                l_run = False\n",
    "            elif df_team.iloc[i, 6] == 'D':\n",
    "                team_averages_and_runs['ftd'] += relevance\n",
    "                if d_run == True:\n",
    "                    team_averages_and_runs['drawing_run'] += 1\n",
    "                if wx_run == True:\n",
    "                    team_averages_and_runs['winless_run'] += 1\n",
    "                if lx_run == True:\n",
    "                    team_averages_and_runs['lossless_run'] += 1\n",
    "                w_run = False\n",
    "                dx_run = False\n",
    "                l_run = False                  \n",
    "            elif (df_team.iloc[i, 6]=='A' and at_home==True) or (df_team.iloc[i, 6]=='H' and at_home==False): # perhaps just 'else' but this feels right\n",
    "                team_averages_and_runs['ftl'] += relevance\n",
    "                if l_run == True:\n",
    "                    team_averages_and_runs['losing_run'] += 1\n",
    "                if wx_run == True:\n",
    "                    team_averages_and_runs['winless_run'] += 1\n",
    "                if dx_run == True:\n",
    "                    team_averages_and_runs['drawless_run'] += 1\n",
    "                w_run = False\n",
    "                d_run = False\n",
    "                lx_run = False                   \n",
    "            team_averages_and_runs['htg_for'] += (df_team.iloc[i, 7+adj] * relevance)  \n",
    "            team_averages_and_runs['htg_ag'] += (df_team.iloc[i, 8-adj] * relevance)  \n",
    "            if (df_team.iloc[i, 9]=='H' and at_home==True) or (df_team.iloc[i, 9]=='A' and at_home==False):\n",
    "                team_averages_and_runs['htw'] += relevance                    \n",
    "            elif df_team.iloc[i, 9] == 'D':\n",
    "                team_averages_and_runs['htd'] += relevance                    \n",
    "            elif (df_team.iloc[i, 9]=='A' and at_home==True) or (df_team.iloc[i, 9]=='H' and at_home==False):\n",
    "                team_averages_and_runs['htl'] += relevance                    \n",
    "            team_averages_and_runs['sot_for'] += (df_team.iloc[i, 10+adj] * relevance)\n",
    "            team_averages_and_runs['sot_ag'] += (df_team.iloc[i, 11-adj] * relevance)\n",
    "            team_averages_and_runs['s_for'] += (df_team.iloc[i, 12+adj] * relevance)\n",
    "            team_averages_and_runs['s_ag'] += (df_team.iloc[i, 13-adj] * relevance)\n",
    "            team_averages_and_runs['c_for'] += (df_team.iloc[i, 14+adj] * relevance)\n",
    "            team_averages_and_runs['c_ag'] += (df_team.iloc[i, 15-adj] * relevance)\n",
    "\n",
    "        # divide\n",
    "        tm_av_key_list = list(team_averages_and_runs.keys())\n",
    "        for j in range(0, len(tm_av_key_list)-6): # -6 to leave streaks\n",
    "            team_averages_and_runs[tm_av_key_list[j]] /= pld_weight\n",
    "        return team_averages_and_runs\n",
    "    else:\n",
    "        return None"
   ]
  },
  {
   "cell_type": "code",
   "execution_count": 5,
   "id": "centered-miniature",
   "metadata": {},
   "outputs": [
    {
     "name": "stdout",
     "output_type": "stream",
     "text": [
      "Fetching from sql\n",
      "Fetched from mysql\n"
     ]
    }
   ],
   "source": [
    "conn_str = mysql.connector.connect(\n",
    "    host = 'localhost',\n",
    "    user = 'simon',\n",
    "    password = 'chainsaw',\n",
    "    database = 'football'\n",
    ")\n",
    "\n",
    "\n",
    "query = \"SELECT ThisDiv, Date, HomeTeam, AwayTeam, FTHG, FTAG, FTR, HTHG, HTAG, HTR, HST, AwST, HS, AwS, HC, AC FROM football_data_complete ORDER BY Date;\"\n",
    "print('Fetching from sql')\n",
    "df_raw = pd.read_sql_query(query, conn_str)\n",
    "print('Fetched from mysql')\n",
    "conn_str.close()"
   ]
  },
  {
   "cell_type": "code",
   "execution_count": 6,
   "id": "elect-pasta",
   "metadata": {},
   "outputs": [],
   "source": [
    "df_raw = df_raw.dropna()"
   ]
  },
  {
   "cell_type": "code",
   "execution_count": 8,
   "id": "absent-analysis",
   "metadata": {},
   "outputs": [],
   "source": [
    "hthf = team_averages_per_game_and_runs('Nottm Forest', 'Derby', date(2021,3,1), date(2020,3,1), True, df_raw, 5, 'E1')"
   ]
  },
  {
   "cell_type": "code",
   "execution_count": 9,
   "id": "chubby-norfolk",
   "metadata": {},
   "outputs": [],
   "source": [
    "htaf = team_averages_per_game_and_runs('Nottm Forest', 'Derby', date(2021,3,1), date(2020,3,1), False, df_raw, 5, 'E1')"
   ]
  },
  {
   "cell_type": "code",
   "execution_count": 10,
   "id": "specified-writing",
   "metadata": {},
   "outputs": [],
   "source": [
    "hm_tms = []\n",
    "aw_tms = []\n",
    "\n",
    "for gm in [('Nottm Forest', 'Derby'), ('Birmingham', 'Brentford')]:\n",
    "    hthf = team_averages_per_game_and_runs(gm[0], gm[1], date(2021,3,1), date(2020,3,1), True, df_raw, 5, 'E1')\n",
    "    htaf = team_averages_per_game_and_runs(gm[0], gm[1], date(2021,3,1), date(2020,3,1), False, df_raw, 5, 'E1')\n",
    "    athf = team_averages_per_game_and_runs(gm[1], gm[0], date(2021,3,1), date(2020,3,1), True, df_raw, 5, 'E1')\n",
    "    ataf = team_averages_per_game_and_runs(gm[1], gm[0], date(2021,3,1), date(2020,3,1), False, df_raw, 5, 'E1')\n",
    "    \n",
    "    h_home_form = Form((hthf['ftg_for'], hthf['ftg_ag']), (hthf['ftw'], hthf['ftd'], hthf['ftl']), (hthf['htg_for'], hthf['htg_ag']), (hthf['htw'], hthf['htd'], hthf['htl']), (hthf['sot_for'], hthf['sot_ag'], hthf['s_for'], hthf['s_ag'], hthf['c_for'], hthf['c_ag']), (hthf['winning_run'], hthf['winless_run'], hthf['drawing_run'], hthf['drawless_run'], hthf['losing_run'], hthf['lossless_run']))\n",
    "    h_away_form = Form((htaf['ftg_for'], htaf['ftg_ag']), (htaf['ftw'], htaf['ftd'], htaf['ftl']), (htaf['htg_for'], htaf['htg_ag']), (htaf['htw'], htaf['htd'], htaf['htl']), (htaf['sot_for'], htaf['sot_ag'], htaf['s_for'], htaf['s_ag'], htaf['c_for'], htaf['c_ag']), (htaf['winning_run'], htaf['winless_run'], htaf['drawing_run'], htaf['drawless_run'], htaf['losing_run'], htaf['lossless_run']))\n",
    "    a_away_form = Form((ataf['ftg_for'], ataf['ftg_ag']), (ataf['ftw'], ataf['ftd'], ataf['ftl']), (ataf['htg_for'], ataf['htg_ag']), (ataf['htw'], ataf['htd'], ataf['htl']), (ataf['sot_for'], ataf['sot_ag'], ataf['s_for'], ataf['s_ag'], ataf['c_for'], ataf['c_ag']), (ataf['winning_run'], ataf['winless_run'], ataf['drawing_run'], ataf['drawless_run'], ataf['losing_run'], ataf['lossless_run']))\n",
    "    a_home_form = Form((athf['ftg_for'], athf['ftg_ag']), (athf['ftw'], athf['ftd'], athf['ftl']), (athf['htg_for'], athf['htg_ag']), (athf['htw'], athf['htd'], athf['htl']), (athf['sot_for'], athf['sot_ag'], athf['s_for'], athf['s_ag'], athf['c_for'], athf['c_ag']), (athf['winning_run'], athf['winless_run'], athf['drawing_run'], athf['drawless_run'], athf['losing_run'], athf['lossless_run']))\n",
    "    \n",
    "    t1 = Team(gm[0], h_home_form, h_away_form)\n",
    "    t2 = Team(gm[1], a_home_form, a_away_form)\n",
    "    \n",
    "    hm_tms.append(t1)\n",
    "    aw_tms.append(t2)"
   ]
  },
  {
   "cell_type": "code",
   "execution_count": 20,
   "id": "structural-myrtle",
   "metadata": {},
   "outputs": [],
   "source": [
    "data = {'home_team': hm_tms, 'away_team': aw_tms}"
   ]
  },
  {
   "cell_type": "code",
   "execution_count": 21,
   "id": "found-grove",
   "metadata": {},
   "outputs": [],
   "source": [
    "test_df = pd.DataFrame(data)"
   ]
  },
  {
   "cell_type": "code",
   "execution_count": 22,
   "id": "quick-fetish",
   "metadata": {},
   "outputs": [
    {
     "data": {
      "text/html": [
       "<div>\n",
       "<style scoped>\n",
       "    .dataframe tbody tr th:only-of-type {\n",
       "        vertical-align: middle;\n",
       "    }\n",
       "\n",
       "    .dataframe tbody tr th {\n",
       "        vertical-align: top;\n",
       "    }\n",
       "\n",
       "    .dataframe thead th {\n",
       "        text-align: right;\n",
       "    }\n",
       "</style>\n",
       "<table border=\"1\" class=\"dataframe\">\n",
       "  <thead>\n",
       "    <tr style=\"text-align: right;\">\n",
       "      <th></th>\n",
       "      <th>home_team</th>\n",
       "      <th>away_team</th>\n",
       "    </tr>\n",
       "  </thead>\n",
       "  <tbody>\n",
       "    <tr>\n",
       "      <th>0</th>\n",
       "      <td>&lt;__main__.Team object at 0x7f6c61622790&gt;</td>\n",
       "      <td>&lt;__main__.Team object at 0x7f6c61622940&gt;</td>\n",
       "    </tr>\n",
       "    <tr>\n",
       "      <th>1</th>\n",
       "      <td>&lt;__main__.Team object at 0x7f6c616220a0&gt;</td>\n",
       "      <td>&lt;__main__.Team object at 0x7f6c61622a60&gt;</td>\n",
       "    </tr>\n",
       "  </tbody>\n",
       "</table>\n",
       "</div>"
      ],
      "text/plain": [
       "                                  home_team  \\\n",
       "0  <__main__.Team object at 0x7f6c61622790>   \n",
       "1  <__main__.Team object at 0x7f6c616220a0>   \n",
       "\n",
       "                                  away_team  \n",
       "0  <__main__.Team object at 0x7f6c61622940>  \n",
       "1  <__main__.Team object at 0x7f6c61622a60>  "
      ]
     },
     "execution_count": 22,
     "metadata": {},
     "output_type": "execute_result"
    }
   ],
   "source": [
    "test_df"
   ]
  },
  {
   "cell_type": "code",
   "execution_count": 29,
   "id": "simple-doctor",
   "metadata": {},
   "outputs": [
    {
     "data": {
      "text/plain": [
       "(4, 0, 0, 7, 0, 4)"
      ]
     },
     "execution_count": 29,
     "metadata": {},
     "output_type": "execute_result"
    }
   ],
   "source": [
    "test_df.iloc[0, 1].home_form.streak"
   ]
  },
  {
   "cell_type": "code",
   "execution_count": 31,
   "id": "skilled-arrangement",
   "metadata": {},
   "outputs": [
    {
     "data": {
      "text/plain": [
       "Index(['home_team', 'away_team'], dtype='object')"
      ]
     },
     "execution_count": 31,
     "metadata": {},
     "output_type": "execute_result"
    }
   ],
   "source": [
    "test_df.columns"
   ]
  },
  {
   "cell_type": "code",
   "execution_count": null,
   "id": "confidential-damages",
   "metadata": {},
   "outputs": [],
   "source": []
  }
 ],
 "metadata": {
  "kernelspec": {
   "display_name": "Python 3",
   "language": "python",
   "name": "python3"
  },
  "language_info": {
   "codemirror_mode": {
    "name": "ipython",
    "version": 3
   },
   "file_extension": ".py",
   "mimetype": "text/x-python",
   "name": "python",
   "nbconvert_exporter": "python",
   "pygments_lexer": "ipython3",
   "version": "3.8.5"
  }
 },
 "nbformat": 4,
 "nbformat_minor": 5
}

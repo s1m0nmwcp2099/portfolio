{
 "cells": [
  {
   "cell_type": "code",
   "execution_count": 1,
   "id": "julian-forum",
   "metadata": {},
   "outputs": [],
   "source": [
    "import numpy as np"
   ]
  },
  {
   "cell_type": "code",
   "execution_count": 18,
   "id": "veterinary-percentage",
   "metadata": {},
   "outputs": [],
   "source": [
    "my_list = [2,6,2,8,4,0,1,5,7]\n",
    "my_arr = np.array(my_list)\n",
    "my_arr = my_arr.reshape(3,3)"
   ]
  },
  {
   "cell_type": "code",
   "execution_count": 19,
   "id": "starting-saturn",
   "metadata": {},
   "outputs": [
    {
     "data": {
      "text/plain": [
       "array([[2, 6, 2],\n",
       "       [8, 4, 0],\n",
       "       [1, 5, 7]])"
      ]
     },
     "execution_count": 19,
     "metadata": {},
     "output_type": "execute_result"
    }
   ],
   "source": [
    "my_arr"
   ]
  },
  {
   "cell_type": "code",
   "execution_count": 27,
   "id": "occupied-patrick",
   "metadata": {},
   "outputs": [
    {
     "ename": "AttributeError",
     "evalue": "'numpy.ndarray' object has no attribute 'to_list'",
     "output_type": "error",
     "traceback": [
      "\u001b[0;31m---------------------------------------------------------------------------\u001b[0m",
      "\u001b[0;31mAttributeError\u001b[0m                            Traceback (most recent call last)",
      "\u001b[0;32m<ipython-input-27-6f328fdbeb6d>\u001b[0m in \u001b[0;36m<module>\u001b[0;34m\u001b[0m\n\u001b[1;32m      7\u001b[0m       \u001b[0;31m# variance\u001b[0m\u001b[0;34m\u001b[0m\u001b[0;34m\u001b[0m\u001b[0;34m\u001b[0m\u001b[0m\n\u001b[1;32m      8\u001b[0m       'variance': [\n\u001b[0;32m----> 9\u001b[0;31m         \u001b[0mmy_arr\u001b[0m\u001b[0;34m.\u001b[0m\u001b[0mvar\u001b[0m\u001b[0;34m(\u001b[0m\u001b[0maxis\u001b[0m\u001b[0;34m=\u001b[0m\u001b[0;36m0\u001b[0m\u001b[0;34m)\u001b[0m\u001b[0;34m.\u001b[0m\u001b[0mto_list\u001b[0m\u001b[0;34m(\u001b[0m\u001b[0;34m)\u001b[0m\u001b[0;34m,\u001b[0m \u001b[0mmy_arr\u001b[0m\u001b[0;34m.\u001b[0m\u001b[0mvar\u001b[0m\u001b[0;34m(\u001b[0m\u001b[0maxis\u001b[0m\u001b[0;34m=\u001b[0m\u001b[0;36m1\u001b[0m\u001b[0;34m)\u001b[0m\u001b[0;34m.\u001b[0m\u001b[0mto_list\u001b[0m\u001b[0;34m(\u001b[0m\u001b[0;34m)\u001b[0m\u001b[0;34m,\u001b[0m \u001b[0mmy_arr\u001b[0m\u001b[0;34m.\u001b[0m\u001b[0mvar\u001b[0m\u001b[0;34m(\u001b[0m\u001b[0;34m)\u001b[0m\u001b[0;34m\u001b[0m\u001b[0;34m\u001b[0m\u001b[0m\n\u001b[0m\u001b[1;32m     10\u001b[0m       ],\n\u001b[1;32m     11\u001b[0m       \u001b[0;31m# standard deviation\u001b[0m\u001b[0;34m\u001b[0m\u001b[0;34m\u001b[0m\u001b[0;34m\u001b[0m\u001b[0m\n",
      "\u001b[0;31mAttributeError\u001b[0m: 'numpy.ndarray' object has no attribute 'to_list'"
     ]
    }
   ],
   "source": [
    "calculations = {\n",
    "      # mean\n",
    "      'mean': [\n",
    "      my_arr.mean(axis=0, dtype=np.float64), my_arr.mean(axis=1, dtype=np.float64), my_arr.mean(dtype=np.float64)\n",
    "      # np.mean(my_arr, axis=0)  \n",
    "      ],\n",
    "      # variance\n",
    "      'variance': [\n",
    "        my_arr.var(axis=0).to_list(), my_arr.var(axis=1).to_list(), my_arr.var()\n",
    "      ],\n",
    "      # standard deviation\n",
    "      'standard deviation': [\n",
    "        my_arr.std(axis=0), my_arr.std(axis=1), my_arr.std()\n",
    "      ],\n",
    "      # max\n",
    "      'max': [\n",
    "        my_arr.max(axis=0), my_arr.max(axis=1), my_arr.max()\n",
    "      ],\n",
    "      # min\n",
    "      'min': [\n",
    "        my_arr.min(axis=0), my_arr.min(axis=1), my_arr.min()\n",
    "      ],\n",
    "      # sum\n",
    "      'sum': [\n",
    "        my_arr.sum(axis=0), my_arr.sum(axis=1), my_arr.sum()\n",
    "      ]\n",
    "}"
   ]
  },
  {
   "cell_type": "code",
   "execution_count": 24,
   "id": "talented-scenario",
   "metadata": {},
   "outputs": [
    {
     "data": {
      "text/plain": [
       "{'mean': [array([3.66666667, 5.        , 3.        ]),\n",
       "  array([3.33333333, 4.        , 4.33333333]),\n",
       "  3.888888888888889],\n",
       " 'variance': [array([9.55555556, 0.66666667, 8.66666667]),\n",
       "  array([ 3.55555556, 10.66666667,  6.22222222]),\n",
       "  6.987654320987654],\n",
       " 'standard deviation': [array([3.09120617, 0.81649658, 2.94392029]),\n",
       "  array([1.88561808, 3.26598632, 2.49443826]),\n",
       "  2.6434171674156266],\n",
       " 'max': [array([8, 6, 7]), array([6, 8, 7]), 8],\n",
       " 'min': [array([1, 4, 0]), array([2, 0, 1]), 0],\n",
       " 'sum': [array([11, 15,  9]), array([10, 12, 13]), 35]}"
      ]
     },
     "execution_count": 24,
     "metadata": {},
     "output_type": "execute_result"
    }
   ],
   "source": [
    "calculations"
   ]
  },
  {
   "cell_type": "code",
   "execution_count": null,
   "id": "durable-integrity",
   "metadata": {},
   "outputs": [],
   "source": []
  }
 ],
 "metadata": {
  "kernelspec": {
   "display_name": "Python 3",
   "language": "python",
   "name": "python3"
  },
  "language_info": {
   "codemirror_mode": {
    "name": "ipython",
    "version": 3
   },
   "file_extension": ".py",
   "mimetype": "text/x-python",
   "name": "python",
   "nbconvert_exporter": "python",
   "pygments_lexer": "ipython3",
   "version": "3.8.5"
  }
 },
 "nbformat": 4,
 "nbformat_minor": 5
}
